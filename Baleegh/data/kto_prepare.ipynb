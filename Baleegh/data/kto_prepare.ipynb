{
 "cells": [
  {
   "cell_type": "code",
   "execution_count": 1,
   "metadata": {},
   "outputs": [],
   "source": [
    "import pandas as pd"
   ]
  },
  {
   "cell_type": "code",
   "execution_count": 2,
   "metadata": {},
   "outputs": [],
   "source": [
    "books = pd.read_csv(\"./raw/shamela_books/Finished.csv\").drop(columns=[\"Unnamed: 0\", 'book'])"
   ]
  },
  {
   "cell_type": "code",
   "execution_count": 3,
   "metadata": {},
   "outputs": [],
   "source": [
    "aranji = pd.read_excel(\"./processed/english_shamela.xlsx\").drop(columns=[\"Unnamed: 0\"])"
   ]
  },
  {
   "cell_type": "code",
   "execution_count": 4,
   "metadata": {},
   "outputs": [],
   "source": [
    "books['unclassical'] = aranji.loc[:, 'عربي']"
   ]
  },
  {
   "cell_type": "code",
   "execution_count": 5,
   "metadata": {},
   "outputs": [
    {
     "data": {
      "text/html": [
       "<div>\n",
       "<style scoped>\n",
       "    .dataframe tbody tr th:only-of-type {\n",
       "        vertical-align: middle;\n",
       "    }\n",
       "\n",
       "    .dataframe tbody tr th {\n",
       "        vertical-align: top;\n",
       "    }\n",
       "\n",
       "    .dataframe thead th {\n",
       "        text-align: right;\n",
       "    }\n",
       "</style>\n",
       "<table border=\"1\" class=\"dataframe\">\n",
       "  <thead>\n",
       "    <tr style=\"text-align: right;\">\n",
       "      <th></th>\n",
       "      <th>en</th>\n",
       "      <th>ar</th>\n",
       "      <th>unclassical</th>\n",
       "    </tr>\n",
       "  </thead>\n",
       "  <tbody>\n",
       "    <tr>\n",
       "      <th>0</th>\n",
       "      <td>[Chapter on entering upon kings] [Entering of...</td>\n",
       "      <td>[باب في الدخول على الملوك] [دخول الأشراف] إن ك...</td>\n",
       "      <td>[باب الدخول على الملوك] [دخول الأشراف] إذا كا...</td>\n",
       "    </tr>\n",
       "    <tr>\n",
       "      <th>1</th>\n",
       "      <td>If he approached him, he would come close to ...</td>\n",
       "      <td>فإن استدناه، قرب منه، فأكب على أطرافه يقبلها، ...</td>\n",
       "      <td>فإذا اقترب منه دنا منه فاتكأ على أعضائه فقبله...</td>\n",
       "    </tr>\n",
       "    <tr>\n",
       "      <th>2</th>\n",
       "      <td>If he signals to him to sit, he sits.</td>\n",
       "      <td>فإن أومأ إليه بالقعود، قعد.</td>\n",
       "      <td>إذا أشار إليه بالجلوس، يجلس.</td>\n",
       "    </tr>\n",
       "    <tr>\n",
       "      <th>3</th>\n",
       "      <td>If he spoke to him, he would answer him in a ...</td>\n",
       "      <td>فإن كلمه، أجابه بانخفاض صوتٍ، وقلة حركة.</td>\n",
       "      <td>إذا تكلم معه أجابه بصوت منخفض وحركة قليلة.</td>\n",
       "    </tr>\n",
       "    <tr>\n",
       "      <th>4</th>\n",
       "      <td>If he is silent, he should get up immediately...</td>\n",
       "      <td>وإن سكت، نهض من ساعته، قبل أن يتمكن به مجلسه ب...</td>\n",
       "      <td>إذا كان صامتاً، فعليه أن ينهض فوراً، قبل أن ي...</td>\n",
       "    </tr>\n",
       "    <tr>\n",
       "      <th>...</th>\n",
       "      <td>...</td>\n",
       "      <td>...</td>\n",
       "      <td>...</td>\n",
       "    </tr>\n",
       "    <tr>\n",
       "      <th>13565</th>\n",
       "      <td>In reality, this is only by the will of the O...</td>\n",
       "      <td>وأما في الحقيقة فذلك إنما هو بإرادة من لا يعتر...</td>\n",
       "      <td>والحقيقة أن هذا لا يكون إلا بمشيئة من لا ينسى...</td>\n",
       "    </tr>\n",
       "    <tr>\n",
       "      <th>13566</th>\n",
       "      <td>All praise and thanks be to God, we have compl...</td>\n",
       "      <td>كمل ذلك ولله الحمد والمنّة ونسأله السّلامة في ...</td>\n",
       "      <td>ولله الحمد والمنة، تممنا ذلك، ونسأله السلامة ...</td>\n",
       "    </tr>\n",
       "    <tr>\n",
       "      <th>13567</th>\n",
       "      <td>Version M: At the end, all praise and thanks ...</td>\n",
       "      <td>النسخة م: آخره ولله الحمد والمنّة وصلى الله عل...</td>\n",
       "      <td>النسخة م: وأخيراً الحمد لله والشكر، وصلى الله ...</td>\n",
       "    </tr>\n",
       "    <tr>\n",
       "      <th>13568</th>\n",
       "      <td>It was completed in the month of Dhul-Qi'dah,...</td>\n",
       "      <td>تمت في تاريخ شهر ذي القعدة الحرام بعد ما خلت ث...</td>\n",
       "      <td>تم ذلك في شهر ذي القعدة، بعد ثمانية أيام من ه...</td>\n",
       "    </tr>\n",
       "    <tr>\n",
       "      <th>13569</th>\n",
       "      <td>The doctor, professor, Salman Qattaya, the Syr...</td>\n",
       "      <td>يقول الدكتور الطبيب الأستاذ: سلمان قطاية السور...</td>\n",
       "      <td>يقول الدكتور الأستاذ سلمان قطاية السوري من حل...</td>\n",
       "    </tr>\n",
       "  </tbody>\n",
       "</table>\n",
       "<p>13570 rows × 3 columns</p>\n",
       "</div>"
      ],
      "text/plain": [
       "                                                      en  \\\n",
       "0       [Chapter on entering upon kings] [Entering of...   \n",
       "1       If he approached him, he would come close to ...   \n",
       "2                  If he signals to him to sit, he sits.   \n",
       "3       If he spoke to him, he would answer him in a ...   \n",
       "4       If he is silent, he should get up immediately...   \n",
       "...                                                  ...   \n",
       "13565   In reality, this is only by the will of the O...   \n",
       "13566  All praise and thanks be to God, we have compl...   \n",
       "13567   Version M: At the end, all praise and thanks ...   \n",
       "13568   It was completed in the month of Dhul-Qi'dah,...   \n",
       "13569  The doctor, professor, Salman Qattaya, the Syr...   \n",
       "\n",
       "                                                      ar  \\\n",
       "0      [باب في الدخول على الملوك] [دخول الأشراف] إن ك...   \n",
       "1      فإن استدناه، قرب منه، فأكب على أطرافه يقبلها، ...   \n",
       "2                            فإن أومأ إليه بالقعود، قعد.   \n",
       "3               فإن كلمه، أجابه بانخفاض صوتٍ، وقلة حركة.   \n",
       "4      وإن سكت، نهض من ساعته، قبل أن يتمكن به مجلسه ب...   \n",
       "...                                                  ...   \n",
       "13565  وأما في الحقيقة فذلك إنما هو بإرادة من لا يعتر...   \n",
       "13566  كمل ذلك ولله الحمد والمنّة ونسأله السّلامة في ...   \n",
       "13567  النسخة م: آخره ولله الحمد والمنّة وصلى الله عل...   \n",
       "13568  تمت في تاريخ شهر ذي القعدة الحرام بعد ما خلت ث...   \n",
       "13569  يقول الدكتور الطبيب الأستاذ: سلمان قطاية السور...   \n",
       "\n",
       "                                             unclassical  \n",
       "0       [باب الدخول على الملوك] [دخول الأشراف] إذا كا...  \n",
       "1       فإذا اقترب منه دنا منه فاتكأ على أعضائه فقبله...  \n",
       "2                           إذا أشار إليه بالجلوس، يجلس.  \n",
       "3             إذا تكلم معه أجابه بصوت منخفض وحركة قليلة.  \n",
       "4       إذا كان صامتاً، فعليه أن ينهض فوراً، قبل أن ي...  \n",
       "...                                                  ...  \n",
       "13565   والحقيقة أن هذا لا يكون إلا بمشيئة من لا ينسى...  \n",
       "13566   ولله الحمد والمنة، تممنا ذلك، ونسأله السلامة ...  \n",
       "13567  النسخة م: وأخيراً الحمد لله والشكر، وصلى الله ...  \n",
       "13568   تم ذلك في شهر ذي القعدة، بعد ثمانية أيام من ه...  \n",
       "13569   يقول الدكتور الأستاذ سلمان قطاية السوري من حل...  \n",
       "\n",
       "[13570 rows x 3 columns]"
      ]
     },
     "execution_count": 5,
     "metadata": {},
     "output_type": "execute_result"
    }
   ],
   "source": [
    "books"
   ]
  },
  {
   "cell_type": "code",
   "execution_count": 13,
   "metadata": {},
   "outputs": [],
   "source": [
    "from datasets import Dataset\n",
    "books = books.rename(columns={\"en\": \"prompt\", \"ar\": \"chosen\", \"unclassical\": \"rejected\"})\n",
    "ds = Dataset.from_pandas(books)"
   ]
  },
  {
   "cell_type": "code",
   "execution_count": 18,
   "metadata": {},
   "outputs": [],
   "source": [
    "import evaluate\n",
    "metric = evaluate.load(\"AbdulmohsenA/classicier\")\n",
    "\n",
    "def check(row):\n",
    "    score = metric.compute(texts=[row['chosen'], row['rejected']])['classical_score']\n",
    "    return score[0] > 0.5 and score[1] < 0.01"
   ]
  },
  {
   "cell_type": "code",
   "execution_count": 20,
   "metadata": {},
   "outputs": [],
   "source": [
    "new_df = books[books.apply(check, axis=1)]"
   ]
  },
  {
   "cell_type": "code",
   "execution_count": 35,
   "metadata": {},
   "outputs": [],
   "source": [
    "new_df = new_df[new_df['prompt'].str.len() < 200]\n",
    "new_df = new_df[new_df['chosen'].str.len() < 200]\n",
    "new_df = new_df[new_df['rejected'].str.len() < 200]"
   ]
  },
  {
   "cell_type": "code",
   "execution_count": 36,
   "metadata": {},
   "outputs": [],
   "source": [
    "new_df.reset_index(inplace=True, drop=True)"
   ]
  },
  {
   "cell_type": "code",
   "execution_count": 38,
   "metadata": {},
   "outputs": [
    {
     "data": {
      "application/vnd.jupyter.widget-view+json": {
       "model_id": "19b834be98b9466cbbb8c5a6ae65534a",
       "version_major": 2,
       "version_minor": 0
      },
      "text/plain": [
       "Uploading the dataset shards:   0%|          | 0/1 [00:00<?, ?it/s]"
      ]
     },
     "metadata": {},
     "output_type": "display_data"
    },
    {
     "data": {
      "application/vnd.jupyter.widget-view+json": {
       "model_id": "421e28a5bbbf41d4ac934bd8fa247c1c",
       "version_major": 2,
       "version_minor": 0
      },
      "text/plain": [
       "Creating parquet from Arrow format:   0%|          | 0/3 [00:00<?, ?ba/s]"
      ]
     },
     "metadata": {},
     "output_type": "display_data"
    },
    {
     "data": {
      "application/vnd.jupyter.widget-view+json": {
       "model_id": "66f85592fd3243b8af04068a7ed447c5",
       "version_major": 2,
       "version_minor": 0
      },
      "text/plain": [
       "README.md:   0%|          | 0.00/348 [00:00<?, ?B/s]"
      ]
     },
     "metadata": {},
     "output_type": "display_data"
    },
    {
     "data": {
      "text/plain": [
       "CommitInfo(commit_url='https://huggingface.co/datasets/Abdulmohsena/Pairs_DPO/commit/d44b4404096d55b33c8a8354a4871e5e81cd472e', commit_message='Upload dataset', commit_description='', oid='d44b4404096d55b33c8a8354a4871e5e81cd472e', pr_url=None, repo_url=RepoUrl('https://huggingface.co/datasets/Abdulmohsena/Pairs_DPO', endpoint='https://huggingface.co', repo_type='dataset', repo_id='Abdulmohsena/Pairs_DPO'), pr_revision=None, pr_num=None)"
      ]
     },
     "execution_count": 38,
     "metadata": {},
     "output_type": "execute_result"
    }
   ],
   "source": [
    "dpo = Dataset.from_pandas(new_df, preserve_index=False)\n",
    "dpo.push_to_hub(\"Abdulmohsena/Pairs_DPO\")"
   ]
  },
  {
   "cell_type": "code",
   "execution_count": 39,
   "metadata": {},
   "outputs": [],
   "source": [
    "texts = {'prompt': [], 'completion': [], 'label':[]}\n",
    "\n",
    "for _, row in new_df.iterrows():\n",
    "    eng = row['prompt']\n",
    "    true_ar = row['chosen']\n",
    "    bad_ar = row['rejected']\n",
    "    \n",
    "    texts['prompt'].append(eng)\n",
    "    texts['completion'].append(true_ar)\n",
    "    texts['label'].append(True)\n",
    "    \n",
    "    texts['prompt'].append(eng)\n",
    "    texts['completion'].append(bad_ar)\n",
    "    texts['label'].append(False)"
   ]
  },
  {
   "cell_type": "code",
   "execution_count": 40,
   "metadata": {},
   "outputs": [],
   "source": [
    "kto = Dataset.from_pandas(pd.DataFrame(texts), preserve_index=False)"
   ]
  },
  {
   "cell_type": "code",
   "execution_count": 41,
   "metadata": {},
   "outputs": [
    {
     "data": {
      "application/vnd.jupyter.widget-view+json": {
       "model_id": "6f270d427db543c7b78ef095b7cd04b0",
       "version_major": 2,
       "version_minor": 0
      },
      "text/plain": [
       "Uploading the dataset shards:   0%|          | 0/1 [00:00<?, ?it/s]"
      ]
     },
     "metadata": {},
     "output_type": "display_data"
    },
    {
     "data": {
      "application/vnd.jupyter.widget-view+json": {
       "model_id": "95c1bcfbf10b42cc8432455848df80da",
       "version_major": 2,
       "version_minor": 0
      },
      "text/plain": [
       "Creating parquet from Arrow format:   0%|          | 0/6 [00:00<?, ?ba/s]"
      ]
     },
     "metadata": {},
     "output_type": "display_data"
    },
    {
     "data": {
      "application/vnd.jupyter.widget-view+json": {
       "model_id": "221c7c06c79c4257b051c94061e095f2",
       "version_major": 2,
       "version_minor": 0
      },
      "text/plain": [
       "README.md:   0%|          | 0.00/348 [00:00<?, ?B/s]"
      ]
     },
     "metadata": {},
     "output_type": "display_data"
    },
    {
     "name": "stderr",
     "output_type": "stream",
     "text": [
      "d:\\anaconda\\envs\\Faseeh\\Lib\\site-packages\\huggingface_hub\\file_download.py:147: UserWarning: `huggingface_hub` cache-system uses symlinks by default to efficiently store duplicated files but your machine does not support them in C:\\Users\\user\\.cache\\huggingface\\hub\\datasets--Abdulmohsena--Pairs_KTO. Caching files will still work but in a degraded version that might require more space on your disk. This warning can be disabled by setting the `HF_HUB_DISABLE_SYMLINKS_WARNING` environment variable. For more details, see https://huggingface.co/docs/huggingface_hub/how-to-cache#limitations.\n",
      "To support symlinks on Windows, you either need to activate Developer Mode or to run Python as an administrator. In order to activate developer mode, see this article: https://docs.microsoft.com/en-us/windows/apps/get-started/enable-your-device-for-development\n",
      "  warnings.warn(message)\n"
     ]
    },
    {
     "data": {
      "text/plain": [
       "CommitInfo(commit_url='https://huggingface.co/datasets/Abdulmohsena/Pairs_KTO/commit/91b95b400257fb9c948942d377130d651fb083de', commit_message='Upload dataset', commit_description='', oid='91b95b400257fb9c948942d377130d651fb083de', pr_url=None, repo_url=RepoUrl('https://huggingface.co/datasets/Abdulmohsena/Pairs_KTO', endpoint='https://huggingface.co', repo_type='dataset', repo_id='Abdulmohsena/Pairs_KTO'), pr_revision=None, pr_num=None)"
      ]
     },
     "execution_count": 41,
     "metadata": {},
     "output_type": "execute_result"
    }
   ],
   "source": [
    "kto.push_to_hub(\"Abdulmohsena/Pairs_KTO\")"
   ]
  },
  {
   "cell_type": "code",
   "execution_count": 21,
   "metadata": {},
   "outputs": [],
   "source": []
  },
  {
   "cell_type": "code",
   "execution_count": 28,
   "metadata": {},
   "outputs": [
    {
     "data": {
      "text/html": [
       "<div>\n",
       "<style scoped>\n",
       "    .dataframe tbody tr th:only-of-type {\n",
       "        vertical-align: middle;\n",
       "    }\n",
       "\n",
       "    .dataframe tbody tr th {\n",
       "        vertical-align: top;\n",
       "    }\n",
       "\n",
       "    .dataframe thead th {\n",
       "        text-align: right;\n",
       "    }\n",
       "</style>\n",
       "<table border=\"1\" class=\"dataframe\">\n",
       "  <thead>\n",
       "    <tr style=\"text-align: right;\">\n",
       "      <th></th>\n",
       "      <th>en</th>\n",
       "      <th>ar</th>\n",
       "      <th>label</th>\n",
       "    </tr>\n",
       "  </thead>\n",
       "  <tbody>\n",
       "    <tr>\n",
       "      <th>2</th>\n",
       "      <td>If he approached him, he would come close to ...</td>\n",
       "      <td>فإن استدناه، قرب منه، فأكب على أطرافه يقبلها، ...</td>\n",
       "      <td>True</td>\n",
       "    </tr>\n",
       "    <tr>\n",
       "      <th>3</th>\n",
       "      <td>If he approached him, he would come close to ...</td>\n",
       "      <td>فإذا اقترب منه دنا منه فاتكأ على أعضائه فقبله...</td>\n",
       "      <td>False</td>\n",
       "    </tr>\n",
       "    <tr>\n",
       "      <th>4</th>\n",
       "      <td>If he signals to him to sit, he sits.</td>\n",
       "      <td>فإن أومأ إليه بالقعود، قعد.</td>\n",
       "      <td>True</td>\n",
       "    </tr>\n",
       "    <tr>\n",
       "      <th>5</th>\n",
       "      <td>If he signals to him to sit, he sits.</td>\n",
       "      <td>إذا أشار إليه بالجلوس، يجلس.</td>\n",
       "      <td>False</td>\n",
       "    </tr>\n",
       "    <tr>\n",
       "      <th>8</th>\n",
       "      <td>If he is silent, he should get up immediately...</td>\n",
       "      <td>وإن سكت، نهض من ساعته، قبل أن يتمكن به مجلسه ب...</td>\n",
       "      <td>True</td>\n",
       "    </tr>\n",
       "    <tr>\n",
       "      <th>...</th>\n",
       "      <td>...</td>\n",
       "      <td>...</td>\n",
       "      <td>...</td>\n",
       "    </tr>\n",
       "    <tr>\n",
       "      <th>27134</th>\n",
       "      <td>Version M: At the end, all praise and thanks ...</td>\n",
       "      <td>النسخة م: آخره ولله الحمد والمنّة وصلى الله عل...</td>\n",
       "      <td>True</td>\n",
       "    </tr>\n",
       "    <tr>\n",
       "      <th>27136</th>\n",
       "      <td>It was completed in the month of Dhul-Qi'dah,...</td>\n",
       "      <td>تمت في تاريخ شهر ذي القعدة الحرام بعد ما خلت ث...</td>\n",
       "      <td>True</td>\n",
       "    </tr>\n",
       "    <tr>\n",
       "      <th>27137</th>\n",
       "      <td>It was completed in the month of Dhul-Qi'dah,...</td>\n",
       "      <td>تم ذلك في شهر ذي القعدة، بعد ثمانية أيام من ه...</td>\n",
       "      <td>False</td>\n",
       "    </tr>\n",
       "    <tr>\n",
       "      <th>27138</th>\n",
       "      <td>The doctor, professor, Salman Qattaya, the Syr...</td>\n",
       "      <td>يقول الدكتور الطبيب الأستاذ: سلمان قطاية السور...</td>\n",
       "      <td>True</td>\n",
       "    </tr>\n",
       "    <tr>\n",
       "      <th>27139</th>\n",
       "      <td>The doctor, professor, Salman Qattaya, the Syr...</td>\n",
       "      <td>يقول الدكتور الأستاذ سلمان قطاية السوري من حل...</td>\n",
       "      <td>False</td>\n",
       "    </tr>\n",
       "  </tbody>\n",
       "</table>\n",
       "<p>17766 rows × 3 columns</p>\n",
       "</div>"
      ],
      "text/plain": [
       "                                                      en  \\\n",
       "2       If he approached him, he would come close to ...   \n",
       "3       If he approached him, he would come close to ...   \n",
       "4                  If he signals to him to sit, he sits.   \n",
       "5                  If he signals to him to sit, he sits.   \n",
       "8       If he is silent, he should get up immediately...   \n",
       "...                                                  ...   \n",
       "27134   Version M: At the end, all praise and thanks ...   \n",
       "27136   It was completed in the month of Dhul-Qi'dah,...   \n",
       "27137   It was completed in the month of Dhul-Qi'dah,...   \n",
       "27138  The doctor, professor, Salman Qattaya, the Syr...   \n",
       "27139  The doctor, professor, Salman Qattaya, the Syr...   \n",
       "\n",
       "                                                      ar  label  \n",
       "2      فإن استدناه، قرب منه، فأكب على أطرافه يقبلها، ...   True  \n",
       "3       فإذا اقترب منه دنا منه فاتكأ على أعضائه فقبله...  False  \n",
       "4                            فإن أومأ إليه بالقعود، قعد.   True  \n",
       "5                           إذا أشار إليه بالجلوس، يجلس.  False  \n",
       "8      وإن سكت، نهض من ساعته، قبل أن يتمكن به مجلسه ب...   True  \n",
       "...                                                  ...    ...  \n",
       "27134  النسخة م: آخره ولله الحمد والمنّة وصلى الله عل...   True  \n",
       "27136  تمت في تاريخ شهر ذي القعدة الحرام بعد ما خلت ث...   True  \n",
       "27137   تم ذلك في شهر ذي القعدة، بعد ثمانية أيام من ه...  False  \n",
       "27138  يقول الدكتور الطبيب الأستاذ: سلمان قطاية السور...   True  \n",
       "27139   يقول الدكتور الأستاذ سلمان قطاية السوري من حل...  False  \n",
       "\n",
       "[17766 rows x 3 columns]"
      ]
     },
     "execution_count": 28,
     "metadata": {},
     "output_type": "execute_result"
    }
   ],
   "source": [
    "new_df"
   ]
  },
  {
   "cell_type": "code",
   "execution_count": null,
   "metadata": {},
   "outputs": [],
   "source": []
  }
 ],
 "metadata": {
  "kernelspec": {
   "display_name": "Faseeh",
   "language": "python",
   "name": "python3"
  },
  "language_info": {
   "codemirror_mode": {
    "name": "ipython",
    "version": 3
   },
   "file_extension": ".py",
   "mimetype": "text/x-python",
   "name": "python",
   "nbconvert_exporter": "python",
   "pygments_lexer": "ipython3",
   "version": "3.11.9"
  }
 },
 "nbformat": 4,
 "nbformat_minor": 2
}
