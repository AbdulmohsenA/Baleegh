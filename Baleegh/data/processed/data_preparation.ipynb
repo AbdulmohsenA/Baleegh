{
 "cells": [
  {
   "cell_type": "code",
   "execution_count": 1,
   "metadata": {},
   "outputs": [],
   "source": [
    "import numpy as np\n",
    "import pandas as pd\n",
    "import re\n",
    "import torch\n",
    "import os\n",
    "from torch.utils.data import DataLoader, random_split, Dataset\n",
    "import requests\n",
    "from datasets import load_dataset\n",
    "from datasets import Dataset"
   ]
  },
  {
   "cell_type": "code",
   "execution_count": 2,
   "metadata": {},
   "outputs": [],
   "source": [
    "from huggingface_hub import HfApi, HfFolder\n",
    "from transformers import set_seed\n",
    "\n",
    "HF_TOKEN = os.environ['HF_TOKEN']\n",
    "\n",
    "HfFolder.save_token(HF_TOKEN)\n",
    "\n",
    "seed = 1\n",
    "torch.cuda.manual_seed_all(seed)\n",
    "set_seed(seed)\n",
    "np.random.seed(seed)"
   ]
  },
  {
   "cell_type": "markdown",
   "metadata": {},
   "source": [
    "## Quran Dataset"
   ]
  },
  {
   "cell_type": "code",
   "execution_count": 3,
   "metadata": {},
   "outputs": [],
   "source": [
    "quran = pd.read_csv(\"../raw/quran/Finished.csv\").drop(columns=['Unnamed: 0'])"
   ]
  },
  {
   "cell_type": "code",
   "execution_count": 4,
   "metadata": {},
   "outputs": [
    {
     "data": {
      "text/html": [
       "<div>\n",
       "<style scoped>\n",
       "    .dataframe tbody tr th:only-of-type {\n",
       "        vertical-align: middle;\n",
       "    }\n",
       "\n",
       "    .dataframe tbody tr th {\n",
       "        vertical-align: top;\n",
       "    }\n",
       "\n",
       "    .dataframe thead th {\n",
       "        text-align: right;\n",
       "    }\n",
       "</style>\n",
       "<table border=\"1\" class=\"dataframe\">\n",
       "  <thead>\n",
       "    <tr style=\"text-align: right;\">\n",
       "      <th></th>\n",
       "      <th>en</th>\n",
       "      <th>ar</th>\n",
       "    </tr>\n",
       "  </thead>\n",
       "  <tbody>\n",
       "    <tr>\n",
       "      <th>0</th>\n",
       "      <td>praise be to god, lord of the worlds.</td>\n",
       "      <td>الحَمدُ لِلَّهِ رَبِّ العالَمينَ</td>\n",
       "    </tr>\n",
       "    <tr>\n",
       "      <th>1</th>\n",
       "      <td>the most gracious, the most merciful.</td>\n",
       "      <td>الرَّحمٰنِ الرَّحيمِ</td>\n",
       "    </tr>\n",
       "    <tr>\n",
       "      <th>2</th>\n",
       "      <td>master of the day of judgment.</td>\n",
       "      <td>مالِكِ يَومِ الدّينِ</td>\n",
       "    </tr>\n",
       "    <tr>\n",
       "      <th>3</th>\n",
       "      <td>it is you we worship, and upon you we call for...</td>\n",
       "      <td>إِيّاكَ نَعبُدُ وَإِيّاكَ نَستَعينُ</td>\n",
       "    </tr>\n",
       "    <tr>\n",
       "      <th>4</th>\n",
       "      <td>guide us to the straight path.</td>\n",
       "      <td>اهدِنَا الصِّراطَ المُستَقيمَ</td>\n",
       "    </tr>\n",
       "    <tr>\n",
       "      <th>...</th>\n",
       "      <td>...</td>\n",
       "      <td>...</td>\n",
       "    </tr>\n",
       "    <tr>\n",
       "      <th>6117</th>\n",
       "      <td>the king of mankind.</td>\n",
       "      <td>مَلِكِ النّاسِ</td>\n",
       "    </tr>\n",
       "    <tr>\n",
       "      <th>6118</th>\n",
       "      <td>the god of mankind.</td>\n",
       "      <td>إِلٰهِ النّاسِ</td>\n",
       "    </tr>\n",
       "    <tr>\n",
       "      <th>6119</th>\n",
       "      <td>from the evil of the sneaky whisperer.</td>\n",
       "      <td>مِن شَرِّ الوَسواسِ الخَنّاسِ</td>\n",
       "    </tr>\n",
       "    <tr>\n",
       "      <th>6120</th>\n",
       "      <td>who whispers into the hearts of people.</td>\n",
       "      <td>الَّذي يُوَسوِسُ في صُدورِ النّاسِ</td>\n",
       "    </tr>\n",
       "    <tr>\n",
       "      <th>6121</th>\n",
       "      <td>from among jinn and among people.”</td>\n",
       "      <td>مِنَ الجِنَّةِ وَالنّاسِ</td>\n",
       "    </tr>\n",
       "  </tbody>\n",
       "</table>\n",
       "<p>6122 rows × 2 columns</p>\n",
       "</div>"
      ],
      "text/plain": [
       "                                                     en  \\\n",
       "0                 praise be to god, lord of the worlds.   \n",
       "1                 the most gracious, the most merciful.   \n",
       "2                        master of the day of judgment.   \n",
       "3     it is you we worship, and upon you we call for...   \n",
       "4                        guide us to the straight path.   \n",
       "...                                                 ...   \n",
       "6117                               the king of mankind.   \n",
       "6118                                the god of mankind.   \n",
       "6119             from the evil of the sneaky whisperer.   \n",
       "6120            who whispers into the hearts of people.   \n",
       "6121                 from among jinn and among people.”   \n",
       "\n",
       "                                       ar  \n",
       "0        الحَمدُ لِلَّهِ رَبِّ العالَمينَ  \n",
       "1                    الرَّحمٰنِ الرَّحيمِ  \n",
       "2                    مالِكِ يَومِ الدّينِ  \n",
       "3     إِيّاكَ نَعبُدُ وَإِيّاكَ نَستَعينُ  \n",
       "4           اهدِنَا الصِّراطَ المُستَقيمَ  \n",
       "...                                   ...  \n",
       "6117                       مَلِكِ النّاسِ  \n",
       "6118                       إِلٰهِ النّاسِ  \n",
       "6119        مِن شَرِّ الوَسواسِ الخَنّاسِ  \n",
       "6120   الَّذي يُوَسوِسُ في صُدورِ النّاسِ  \n",
       "6121             مِنَ الجِنَّةِ وَالنّاسِ  \n",
       "\n",
       "[6122 rows x 2 columns]"
      ]
     },
     "execution_count": 4,
     "metadata": {},
     "output_type": "execute_result"
    }
   ],
   "source": [
    "quran"
   ]
  },
  {
   "cell_type": "markdown",
   "metadata": {},
   "source": [
    "## Shamela Books"
   ]
  },
  {
   "cell_type": "code",
   "execution_count": 5,
   "metadata": {},
   "outputs": [],
   "source": [
    "# Use GPT-4o to translate"
   ]
  },
  {
   "cell_type": "code",
   "execution_count": 2,
   "metadata": {},
   "outputs": [],
   "source": [
    "books = pd.read_csv(\"../raw/shamela_books/Finished.csv\").drop(columns=[\"Unnamed: 0\", 'book'])"
   ]
  },
  {
   "cell_type": "code",
   "execution_count": 7,
   "metadata": {},
   "outputs": [
    {
     "data": {
      "text/plain": [
       "array([['Whoever among you knows something about the matter of Dimna, whether good or bad, let him say so, and let him speak about it in front of the assembly and witnesses, so that the judgment in his matter will be more appropriate, and haste is from desire, and following one’s companions in falsehood is humiliation.',\n",
       "        'فمن علم منكم شيئاً في أمر دمنة من خيرٍ أو شرٍ، فليقل ذلك، وليتكلم به على رءوس الجمع والأشهاد، ليكون القضاء في أمره أولى، والعجلة من الهوى، ومتابعة الأصحاب على الباطل ذل.']],\n",
       "      dtype=object)"
      ]
     },
     "execution_count": 7,
     "metadata": {},
     "output_type": "execute_result"
    }
   ],
   "source": [
    "books.sample().values # USE GPT4O PLZ"
   ]
  },
  {
   "cell_type": "markdown",
   "metadata": {},
   "source": [
    "## Hadith"
   ]
  },
  {
   "cell_type": "code",
   "execution_count": 8,
   "metadata": {},
   "outputs": [],
   "source": [
    "hadith = pd.read_csv(\"../raw/hadith/Finished.csv\").drop(columns=[\"Unnamed: 0\"])"
   ]
  },
  {
   "cell_type": "code",
   "execution_count": 9,
   "metadata": {},
   "outputs": [
    {
     "data": {
      "text/plain": [
       "array([['Allah will set right his affairs and raise his status in one night, or in a moment of one night, such that those invested with authority will agree upon his Caliphate.',\n",
       "        'يُصْلِحُ الله أَمْرَهُ وَيَرْفَعُ قَدْرَهُ فِي لَيْلَةٍ وَاحِدَةٍ أَوْ فِي سَاعَةٍ وَاحِدَةٍ مِنَ اللَّيْلِ حَيْثُ يَتَّفِقُ عَلَى خِلَافَتِهِ أَهْلُ الْحَلِّ وَالْعَقْدِ فِيهَا']],\n",
       "      dtype=object)"
      ]
     },
     "execution_count": 9,
     "metadata": {},
     "output_type": "execute_result"
    }
   ],
   "source": [
    "hadith.sample().values"
   ]
  },
  {
   "cell_type": "markdown",
   "metadata": {},
   "source": [
    "## Combining Datasets"
   ]
  },
  {
   "cell_type": "code",
   "execution_count": 13,
   "metadata": {},
   "outputs": [],
   "source": [
    "used_datasets = [quran, books, hadith]\n",
    "all_df = pd.concat(used_datasets)\n",
    "\n",
    "from camel_tools.utils import dediac\n",
    "all_df = all_df.map(dediac.dediac_ar)\n",
    "all_df = all_df[all_df['ar'].str.contains(r\"[\\u0600-\\u06FF]+\")]\n",
    "all_df = all_df[all_df['en'].str.contains(r\"[A-Za-z]+\")]\n",
    "all_df = all_df.map(lambda text: text.strip())\n",
    "all_df.reset_index(inplace=True, drop=True)"
   ]
  },
  {
   "cell_type": "code",
   "execution_count": 14,
   "metadata": {},
   "outputs": [
    {
     "data": {
      "text/plain": [
       "array([['have no doubt that I am a fool to him, and that I am like some who eat his money.',\n",
       "        'وما أشك أني عنده غمر ، وأني كبعض من يأكل ماله.']], dtype=object)"
      ]
     },
     "execution_count": 14,
     "metadata": {},
     "output_type": "execute_result"
    }
   ],
   "source": [
    "all_df.sample().values"
   ]
  },
  {
   "cell_type": "code",
   "execution_count": 15,
   "metadata": {},
   "outputs": [
    {
     "name": "stdout",
     "output_type": "stream",
     "text": [
      "Percentage of each sub_dataset to the whole dataset:\n",
      "0: 23.08%\n",
      "1: 51.16%\n",
      "2: 25.76%\n"
     ]
    }
   ],
   "source": [
    "print(\"Percentage of each sub_dataset to the whole dataset:\")\n",
    "\n",
    "for i, ds in enumerate(used_datasets):\n",
    "    print(f\"{i}: {len(ds) / sum(len(d) for d in used_datasets):.2%}\")"
   ]
  },
  {
   "cell_type": "code",
   "execution_count": 16,
   "metadata": {},
   "outputs": [],
   "source": [
    "dataset = Dataset.from_pandas(all_df)\n",
    "dataset = dataset.shuffle(seed=seed)"
   ]
  },
  {
   "cell_type": "code",
   "execution_count": 17,
   "metadata": {},
   "outputs": [
    {
     "data": {
      "application/vnd.jupyter.widget-view+json": {
       "model_id": "7c2386484b814d8984b3e491bfa65ef1",
       "version_major": 2,
       "version_minor": 0
      },
      "text/plain": [
       "Uploading the dataset shards:   0%|          | 0/1 [00:00<?, ?it/s]"
      ]
     },
     "metadata": {},
     "output_type": "display_data"
    },
    {
     "data": {
      "application/vnd.jupyter.widget-view+json": {
       "model_id": "ac0a1b8e85f740c1a751979a384ff093",
       "version_major": 2,
       "version_minor": 0
      },
      "text/plain": [
       "Creating parquet from Arrow format:   0%|          | 0/27 [00:00<?, ?ba/s]"
      ]
     },
     "metadata": {},
     "output_type": "display_data"
    },
    {
     "data": {
      "text/plain": [
       "CommitInfo(commit_url='https://huggingface.co/datasets/Abdulmohsena/Classic-Arabic-English-Language-Pairs/commit/9eceb1fc1246321843f4a0bb4b9231819256366a', commit_message='Upload dataset', commit_description='', oid='9eceb1fc1246321843f4a0bb4b9231819256366a', pr_url=None, repo_url=RepoUrl('https://huggingface.co/datasets/Abdulmohsena/Classic-Arabic-English-Language-Pairs', endpoint='https://huggingface.co', repo_type='dataset', repo_id='Abdulmohsena/Classic-Arabic-English-Language-Pairs'), pr_revision=None, pr_num=None)"
      ]
     },
     "execution_count": 17,
     "metadata": {},
     "output_type": "execute_result"
    }
   ],
   "source": [
    "dataset.push_to_hub(\"Abdulmohsena/Classic-Arabic-English-Language-Pairs\")"
   ]
  },
  {
   "cell_type": "code",
   "execution_count": null,
   "metadata": {},
   "outputs": [],
   "source": []
  }
 ],
 "metadata": {
  "kernelspec": {
   "display_name": "Faseeh",
   "language": "python",
   "name": "python3"
  },
  "language_info": {
   "codemirror_mode": {
    "name": "ipython",
    "version": 3
   },
   "file_extension": ".py",
   "mimetype": "text/x-python",
   "name": "python",
   "nbconvert_exporter": "python",
   "pygments_lexer": "ipython3",
   "version": "3.11.9"
  }
 },
 "nbformat": 4,
 "nbformat_minor": 2
}
