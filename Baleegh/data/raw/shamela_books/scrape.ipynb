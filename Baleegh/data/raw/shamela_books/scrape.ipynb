{
 "cells": [
  {
   "cell_type": "code",
   "execution_count": 15,
   "metadata": {},
   "outputs": [],
   "source": [
    "import requests\n",
    "from bs4 import BeautifulSoup\n",
    "import pandas as pd\n",
    "from concurrent.futures import ThreadPoolExecutor\n",
    "import re"
   ]
  },
  {
   "cell_type": "code",
   "execution_count": 16,
   "metadata": {},
   "outputs": [],
   "source": [
    "def scrape_page(book_id, page):\n",
    "    '''Scrape a page from a book in Shamela website: https://shamela.ws'''\n",
    "    url = f'https://shamela.ws/book/{book_id}/{page}'\n",
    "    try:\n",
    "        response = requests.get(url)\n",
    "        soup = BeautifulSoup(response.content, 'html.parser')\n",
    "        sentences = soup.select('.nass p')\n",
    "\n",
    "        return [sentence.get_text() for sentence in sentences]\n",
    "\n",
    "    except Exception:\n",
    "        print(\"Invalid URL:\", url)\n",
    "        return []"
   ]
  },
  {
   "cell_type": "code",
   "execution_count": 17,
   "metadata": {},
   "outputs": [],
   "source": [
    "books = {\n",
    "    \"التاج في اخلاق الملوك\" : 22623,\n",
    "    'كليلة ودمنة': 26537,\n",
    "    \"البخلاء\" : 10501,\n",
    "    \"الرسائل للجاحظ\" : 10428,\n",
    "    \"تهافت الفلاسفة\" : 11055,\n",
    "    \"أصناف المغرورين\" : 9198,\n",
    "    \"بن حزم\" : 1038,\n",
    "    \"تشريح القانون\": 802,\n",
    "    \"الحيوان\": 23775\n",
    "}\n",
    "    # \"فضائح الباطنية\" : 6554,\n",
    "    # \"تبصرة البلدان\" : 6956,\n",
    "    # \"الأنواء\": 9093,\n",
    "    # \"السياسة\": 7227,\n",
    "    # \"الرازي رسائل\": 12834,\n",
    "    # \"العلاج بالأعشاب\": 10705,\n",
    "    # \"القانون في الطب\": 10706,\n",
    "    # \"نشوار المحاضرة\": 10275,\n",
    "    # \"تاريخ الطبري\": 9783,\n",
    "    # \"فتوح الشام\": 12045,\n",
    "num_threads = len(books.keys())\n",
    "ar_dataset = {}"
   ]
  },
  {
   "cell_type": "code",
   "execution_count": 18,
   "metadata": {},
   "outputs": [],
   "source": [
    "def process_book(book_id, max_pages = 500):\n",
    "    \n",
    "    res = requests.get(f\"https://shamela.ws/book/{book_id}\")\n",
    "    soup = BeautifulSoup(res.content, 'html.parser')\n",
    "    title = soup.select('h1')[0].get_text().strip()\n",
    "    \n",
    "    if title == 'كتاب الحيوان':\n",
    "        max_pages = 1500\n",
    "    \n",
    "    book_sentences = []\n",
    "    last_sentence = \"\"\n",
    "    print(f\"Started {book_id}\")\n",
    "    \n",
    "    for page in range(max_pages):\n",
    "        sentences = scrape_page(book_id, page)\n",
    "        if len(sentences) > 0:\n",
    "            sentences[0] = f\"{last_sentence} {sentences[0]}\"\n",
    "            last_sentence = sentences.pop(-1)\n",
    "        book_sentences.extend(sentences)\n",
    "        \n",
    "    book_sentences.append(last_sentence)\n",
    "    print(f\"Finished {book_id}\")\n",
    "\n",
    "    return title, book_sentences"
   ]
  },
  {
   "cell_type": "code",
   "execution_count": 19,
   "metadata": {},
   "outputs": [
    {
     "name": "stdout",
     "output_type": "stream",
     "text": [
      "Started 26537\n",
      "Started 22623\n",
      "Started 10501\n",
      "Started 802\n",
      "Started 9198\n",
      "Started 10428\n",
      "Started 11055Started 1038\n",
      "\n",
      "Started 23775\n",
      "Finished 9198\n",
      "Finished 22623\n",
      "Finished 26537\n",
      "Finished 10501\n",
      "Finished 802\n",
      "Finished 10428\n",
      "Finished 11055\n",
      "Finished 1038\n",
      "Finished 23775\n"
     ]
    }
   ],
   "source": [
    "with ThreadPoolExecutor(max_workers=num_threads) as executor:\n",
    "    futures = [executor.submit(process_book, book_id) for book_id in books.values()]\n",
    "    for future in futures:\n",
    "        title, data = future.result()\n",
    "        ar_dataset[title] = data"
   ]
  },
  {
   "cell_type": "code",
   "execution_count": 20,
   "metadata": {},
   "outputs": [],
   "source": [
    "import json\n",
    "\n",
    "with open(\"divided.json\", \"w\") as outfile: \n",
    "    json.dump(ar_dataset, outfile, ensure_ascii=False)"
   ]
  },
  {
   "cell_type": "code",
   "execution_count": 4,
   "metadata": {},
   "outputs": [
    {
     "ename": "NameError",
     "evalue": "name 'ar_dataset' is not defined",
     "output_type": "error",
     "traceback": [
      "\u001b[1;31m---------------------------------------------------------------------------\u001b[0m",
      "\u001b[1;31mNameError\u001b[0m                                 Traceback (most recent call last)",
      "Cell \u001b[1;32mIn[4], line 1\u001b[0m\n\u001b[1;32m----> 1\u001b[0m pd\u001b[38;5;241m.\u001b[39mDataFrame(\u001b[43mar_dataset\u001b[49m[\u001b[38;5;28mlist\u001b[39m(ar_dataset\u001b[38;5;241m.\u001b[39mkeys())[\u001b[38;5;241m0\u001b[39m]])\u001b[38;5;241m.\u001b[39msample()\n",
      "\u001b[1;31mNameError\u001b[0m: name 'ar_dataset' is not defined"
     ]
    }
   ],
   "source": [
    "pd.DataFrame(ar_dataset[list(ar_dataset.keys())[0]]).sample()"
   ]
  },
  {
   "cell_type": "code",
   "execution_count": 17,
   "metadata": {},
   "outputs": [],
   "source": [
    "df = pd.DataFrame(ar_sentences, columns=['arabic'])"
   ]
  },
  {
   "cell_type": "code",
   "execution_count": 19,
   "metadata": {},
   "outputs": [],
   "source": [
    "df = df.map(lambda text: re.sub(r\"«.*?»\", '', text))\n",
    "df = df.map(lambda text: re.sub(r\"\\s+\", ' ', text))"
   ]
  },
  {
   "cell_type": "code",
   "execution_count": 20,
   "metadata": {},
   "outputs": [
    {
     "data": {
      "text/plain": [
       "array([['أفادت بك الأيّام فرط تجارب ... كأنّك في فرق الزمان مشيب'],\n",
       "       ['وكانت لمعتزلة تؤمن بالعقل، كما كان علم الكلام والجدل موضوع كل مجلس، وكل منتدى، فنزع الجاحظ نزعة إعتزالية ... وإذا كان اساتذة عصره قد طبّعوا الجاحظ بميزات فكرية وأدبية ولغوية وعلمية فريدة، فإن المعتزلة تركت آثارها العقلية عميقة في كتاباته، وطرائق تفكيره وتآليفه. وبات له نمط واضح ثابت، يستدلّ عليه من كتبه، ومن موضوعاته.']],\n",
       "      dtype=object)"
      ]
     },
     "execution_count": 20,
     "metadata": {},
     "output_type": "execute_result"
    }
   ],
   "source": [
    "df.sample(2).values"
   ]
  },
  {
   "cell_type": "code",
   "execution_count": 23,
   "metadata": {},
   "outputs": [],
   "source": [
    "df.to_excel(\"shamela_books.xlsx\")"
   ]
  },
  {
   "cell_type": "markdown",
   "metadata": {},
   "source": [
    "## Sharding"
   ]
  },
  {
   "cell_type": "code",
   "execution_count": 22,
   "metadata": {},
   "outputs": [],
   "source": [
    "import pandas as pd\n",
    "import numpy as np\n",
    "\n",
    "df = pd.read_excel(\"shamela_books.xlsx\")\n",
    "df = df.drop(columns=['Unnamed: 0'])\n",
    "df = df.sample(frac=1)"
   ]
  },
  {
   "cell_type": "code",
   "execution_count": 24,
   "metadata": {},
   "outputs": [
    {
     "name": "stderr",
     "output_type": "stream",
     "text": [
      "d:\\anaconda\\envs\\general\\Lib\\site-packages\\numpy\\_core\\fromnumeric.py:57: FutureWarning: 'DataFrame.swapaxes' is deprecated and will be removed in a future version. Please use 'DataFrame.transpose' instead.\n",
      "  return bound(*args, **kwds)\n"
     ]
    }
   ],
   "source": [
    "shards = np.array_split(df, 5)\n",
    "\n",
    "for i, shard in enumerate(shards, 1):\n",
    "    shard = shard.reset_index(drop=True)\n",
    "    shard.to_excel(f\"shards/shard_{i}.xlsx\")"
   ]
  },
  {
   "cell_type": "markdown",
   "metadata": {},
   "source": [
    "## Translate"
   ]
  },
  {
   "cell_type": "code",
   "execution_count": 2,
   "metadata": {},
   "outputs": [
    {
     "ename": "NoSuchWindowException",
     "evalue": "Message: no such window: target window already closed\nfrom unknown error: web view not found\n  (Session info: chrome=129.0.6668.60)\nStacktrace:\n\tGetHandleVerifier [0x00007FF7B00FB125+29573]\n\t(No symbol) [0x00007FF7B006FF50]\n\t(No symbol) [0x00007FF7AFF2B6EA]\n\t(No symbol) [0x00007FF7AFEFFCD5]\n\t(No symbol) [0x00007FF7AFFAEF67]\n\t(No symbol) [0x00007FF7AFFC7FC1]\n\t(No symbol) [0x00007FF7AFFA70A3]\n\t(No symbol) [0x00007FF7AFF712DF]\n\t(No symbol) [0x00007FF7AFF72441]\n\tGetHandleVerifier [0x00007FF7B042C76D+3377613]\n\tGetHandleVerifier [0x00007FF7B0477B67+3685831]\n\tGetHandleVerifier [0x00007FF7B046CF8B+3641835]\n\tGetHandleVerifier [0x00007FF7B01BB2A6+816390]\n\t(No symbol) [0x00007FF7B007B25F]\n\t(No symbol) [0x00007FF7B0077084]\n\t(No symbol) [0x00007FF7B0077220]\n\t(No symbol) [0x00007FF7B006607F]\n\tBaseThreadInitThunk [0x00007FF8D2437374+20]\n\tRtlUserThreadStart [0x00007FF8D3C5CC91+33]\n",
     "output_type": "error",
     "traceback": [
      "\u001b[1;31m---------------------------------------------------------------------------\u001b[0m",
      "\u001b[1;31mNoSuchWindowException\u001b[0m                     Traceback (most recent call last)",
      "Cell \u001b[1;32mIn[2], line 45\u001b[0m\n\u001b[0;32m     42\u001b[0m sleep(\u001b[38;5;241m15\u001b[39m)  \u001b[38;5;66;03m# Wait for the translation to complete\u001b[39;00m\n\u001b[0;32m     44\u001b[0m \u001b[38;5;66;03m# Find and click the download button\u001b[39;00m\n\u001b[1;32m---> 45\u001b[0m download_button \u001b[38;5;241m=\u001b[39m \u001b[43mWebDriverWait\u001b[49m\u001b[43m(\u001b[49m\u001b[43mdriver\u001b[49m\u001b[43m,\u001b[49m\u001b[43m \u001b[49m\u001b[38;5;241;43m10\u001b[39;49m\u001b[43m)\u001b[49m\u001b[38;5;241;43m.\u001b[39;49m\u001b[43muntil\u001b[49m\u001b[43m(\u001b[49m\n\u001b[0;32m     46\u001b[0m \u001b[43m    \u001b[49m\u001b[43mEC\u001b[49m\u001b[38;5;241;43m.\u001b[39;49m\u001b[43melement_to_be_clickable\u001b[49m\u001b[43m(\u001b[49m\u001b[43m(\u001b[49m\u001b[43mBy\u001b[49m\u001b[38;5;241;43m.\u001b[39;49m\u001b[43mXPATH\u001b[49m\u001b[43m,\u001b[49m\u001b[43m \u001b[49m\u001b[38;5;124;43m'\u001b[39;49m\u001b[38;5;124;43m//button[div[text()=\u001b[39;49m\u001b[38;5;124;43m\"\u001b[39;49m\u001b[38;5;124;43mDownload translation\u001b[39;49m\u001b[38;5;124;43m\"\u001b[39;49m\u001b[38;5;124;43m] or @aria-label=\u001b[39;49m\u001b[38;5;124;43m\"\u001b[39;49m\u001b[38;5;124;43mDownload translation\u001b[39;49m\u001b[38;5;124;43m\"\u001b[39;49m\u001b[38;5;124;43m]\u001b[39;49m\u001b[38;5;124;43m'\u001b[39;49m\u001b[43m)\u001b[49m\u001b[43m)\u001b[49m\n\u001b[0;32m     47\u001b[0m \u001b[43m\u001b[49m\u001b[43m)\u001b[49m\n\u001b[0;32m     48\u001b[0m download_button\u001b[38;5;241m.\u001b[39mclick()\n\u001b[0;32m     50\u001b[0m sleep(\u001b[38;5;241m5\u001b[39m)  \u001b[38;5;66;03m# Wait for the download to complete\u001b[39;00m\n",
      "File \u001b[1;32md:\\anaconda\\envs\\general\\Lib\\site-packages\\selenium\\webdriver\\support\\wait.py:96\u001b[0m, in \u001b[0;36mWebDriverWait.until\u001b[1;34m(self, method, message)\u001b[0m\n\u001b[0;32m     94\u001b[0m \u001b[38;5;28;01mwhile\u001b[39;00m \u001b[38;5;28;01mTrue\u001b[39;00m:\n\u001b[0;32m     95\u001b[0m     \u001b[38;5;28;01mtry\u001b[39;00m:\n\u001b[1;32m---> 96\u001b[0m         value \u001b[38;5;241m=\u001b[39m \u001b[43mmethod\u001b[49m\u001b[43m(\u001b[49m\u001b[38;5;28;43mself\u001b[39;49m\u001b[38;5;241;43m.\u001b[39;49m\u001b[43m_driver\u001b[49m\u001b[43m)\u001b[49m\n\u001b[0;32m     97\u001b[0m         \u001b[38;5;28;01mif\u001b[39;00m value:\n\u001b[0;32m     98\u001b[0m             \u001b[38;5;28;01mreturn\u001b[39;00m value\n",
      "File \u001b[1;32md:\\anaconda\\envs\\general\\Lib\\site-packages\\selenium\\webdriver\\support\\expected_conditions.py:363\u001b[0m, in \u001b[0;36melement_to_be_clickable.<locals>._predicate\u001b[1;34m(driver)\u001b[0m\n\u001b[0;32m    361\u001b[0m target \u001b[38;5;241m=\u001b[39m mark\n\u001b[0;32m    362\u001b[0m \u001b[38;5;28;01mif\u001b[39;00m \u001b[38;5;129;01mnot\u001b[39;00m \u001b[38;5;28misinstance\u001b[39m(target, WebElement):  \u001b[38;5;66;03m# if given locator instead of WebElement\u001b[39;00m\n\u001b[1;32m--> 363\u001b[0m     target \u001b[38;5;241m=\u001b[39m \u001b[43mdriver\u001b[49m\u001b[38;5;241;43m.\u001b[39;49m\u001b[43mfind_element\u001b[49m\u001b[43m(\u001b[49m\u001b[38;5;241;43m*\u001b[39;49m\u001b[43mtarget\u001b[49m\u001b[43m)\u001b[49m  \u001b[38;5;66;03m# grab element at locator\u001b[39;00m\n\u001b[0;32m    364\u001b[0m element \u001b[38;5;241m=\u001b[39m visibility_of(target)(driver)\n\u001b[0;32m    365\u001b[0m \u001b[38;5;28;01mif\u001b[39;00m element \u001b[38;5;129;01mand\u001b[39;00m element\u001b[38;5;241m.\u001b[39mis_enabled():\n",
      "File \u001b[1;32md:\\anaconda\\envs\\general\\Lib\\site-packages\\selenium\\webdriver\\remote\\webdriver.py:748\u001b[0m, in \u001b[0;36mWebDriver.find_element\u001b[1;34m(self, by, value)\u001b[0m\n\u001b[0;32m    745\u001b[0m     by \u001b[38;5;241m=\u001b[39m By\u001b[38;5;241m.\u001b[39mCSS_SELECTOR\n\u001b[0;32m    746\u001b[0m     value \u001b[38;5;241m=\u001b[39m \u001b[38;5;124mf\u001b[39m\u001b[38;5;124m'\u001b[39m\u001b[38;5;124m[name=\u001b[39m\u001b[38;5;124m\"\u001b[39m\u001b[38;5;132;01m{\u001b[39;00mvalue\u001b[38;5;132;01m}\u001b[39;00m\u001b[38;5;124m\"\u001b[39m\u001b[38;5;124m]\u001b[39m\u001b[38;5;124m'\u001b[39m\n\u001b[1;32m--> 748\u001b[0m \u001b[38;5;28;01mreturn\u001b[39;00m \u001b[38;5;28;43mself\u001b[39;49m\u001b[38;5;241;43m.\u001b[39;49m\u001b[43mexecute\u001b[49m\u001b[43m(\u001b[49m\u001b[43mCommand\u001b[49m\u001b[38;5;241;43m.\u001b[39;49m\u001b[43mFIND_ELEMENT\u001b[49m\u001b[43m,\u001b[49m\u001b[43m \u001b[49m\u001b[43m{\u001b[49m\u001b[38;5;124;43m\"\u001b[39;49m\u001b[38;5;124;43musing\u001b[39;49m\u001b[38;5;124;43m\"\u001b[39;49m\u001b[43m:\u001b[49m\u001b[43m \u001b[49m\u001b[43mby\u001b[49m\u001b[43m,\u001b[49m\u001b[43m \u001b[49m\u001b[38;5;124;43m\"\u001b[39;49m\u001b[38;5;124;43mvalue\u001b[39;49m\u001b[38;5;124;43m\"\u001b[39;49m\u001b[43m:\u001b[49m\u001b[43m \u001b[49m\u001b[43mvalue\u001b[49m\u001b[43m}\u001b[49m\u001b[43m)\u001b[49m[\u001b[38;5;124m\"\u001b[39m\u001b[38;5;124mvalue\u001b[39m\u001b[38;5;124m\"\u001b[39m]\n",
      "File \u001b[1;32md:\\anaconda\\envs\\general\\Lib\\site-packages\\selenium\\webdriver\\remote\\webdriver.py:354\u001b[0m, in \u001b[0;36mWebDriver.execute\u001b[1;34m(self, driver_command, params)\u001b[0m\n\u001b[0;32m    352\u001b[0m response \u001b[38;5;241m=\u001b[39m \u001b[38;5;28mself\u001b[39m\u001b[38;5;241m.\u001b[39mcommand_executor\u001b[38;5;241m.\u001b[39mexecute(driver_command, params)\n\u001b[0;32m    353\u001b[0m \u001b[38;5;28;01mif\u001b[39;00m response:\n\u001b[1;32m--> 354\u001b[0m     \u001b[38;5;28;43mself\u001b[39;49m\u001b[38;5;241;43m.\u001b[39;49m\u001b[43merror_handler\u001b[49m\u001b[38;5;241;43m.\u001b[39;49m\u001b[43mcheck_response\u001b[49m\u001b[43m(\u001b[49m\u001b[43mresponse\u001b[49m\u001b[43m)\u001b[49m\n\u001b[0;32m    355\u001b[0m     response[\u001b[38;5;124m\"\u001b[39m\u001b[38;5;124mvalue\u001b[39m\u001b[38;5;124m\"\u001b[39m] \u001b[38;5;241m=\u001b[39m \u001b[38;5;28mself\u001b[39m\u001b[38;5;241m.\u001b[39m_unwrap_value(response\u001b[38;5;241m.\u001b[39mget(\u001b[38;5;124m\"\u001b[39m\u001b[38;5;124mvalue\u001b[39m\u001b[38;5;124m\"\u001b[39m, \u001b[38;5;28;01mNone\u001b[39;00m))\n\u001b[0;32m    356\u001b[0m     \u001b[38;5;28;01mreturn\u001b[39;00m response\n",
      "File \u001b[1;32md:\\anaconda\\envs\\general\\Lib\\site-packages\\selenium\\webdriver\\remote\\errorhandler.py:229\u001b[0m, in \u001b[0;36mErrorHandler.check_response\u001b[1;34m(self, response)\u001b[0m\n\u001b[0;32m    227\u001b[0m         alert_text \u001b[38;5;241m=\u001b[39m value[\u001b[38;5;124m\"\u001b[39m\u001b[38;5;124malert\u001b[39m\u001b[38;5;124m\"\u001b[39m]\u001b[38;5;241m.\u001b[39mget(\u001b[38;5;124m\"\u001b[39m\u001b[38;5;124mtext\u001b[39m\u001b[38;5;124m\"\u001b[39m)\n\u001b[0;32m    228\u001b[0m     \u001b[38;5;28;01mraise\u001b[39;00m exception_class(message, screen, stacktrace, alert_text)  \u001b[38;5;66;03m# type: ignore[call-arg]  # mypy is not smart enough here\u001b[39;00m\n\u001b[1;32m--> 229\u001b[0m \u001b[38;5;28;01mraise\u001b[39;00m exception_class(message, screen, stacktrace)\n",
      "\u001b[1;31mNoSuchWindowException\u001b[0m: Message: no such window: target window already closed\nfrom unknown error: web view not found\n  (Session info: chrome=129.0.6668.60)\nStacktrace:\n\tGetHandleVerifier [0x00007FF7B00FB125+29573]\n\t(No symbol) [0x00007FF7B006FF50]\n\t(No symbol) [0x00007FF7AFF2B6EA]\n\t(No symbol) [0x00007FF7AFEFFCD5]\n\t(No symbol) [0x00007FF7AFFAEF67]\n\t(No symbol) [0x00007FF7AFFC7FC1]\n\t(No symbol) [0x00007FF7AFFA70A3]\n\t(No symbol) [0x00007FF7AFF712DF]\n\t(No symbol) [0x00007FF7AFF72441]\n\tGetHandleVerifier [0x00007FF7B042C76D+3377613]\n\tGetHandleVerifier [0x00007FF7B0477B67+3685831]\n\tGetHandleVerifier [0x00007FF7B046CF8B+3641835]\n\tGetHandleVerifier [0x00007FF7B01BB2A6+816390]\n\t(No symbol) [0x00007FF7B007B25F]\n\t(No symbol) [0x00007FF7B0077084]\n\t(No symbol) [0x00007FF7B0077220]\n\t(No symbol) [0x00007FF7B006607F]\n\tBaseThreadInitThunk [0x00007FF8D2437374+20]\n\tRtlUserThreadStart [0x00007FF8D3C5CC91+33]\n"
     ]
    }
   ],
   "source": [
    "from selenium import webdriver\n",
    "from selenium.webdriver.common.by import By\n",
    "from selenium.webdriver.chrome.service import Service\n",
    "from selenium.webdriver.support.ui import WebDriverWait\n",
    "from selenium.webdriver.support import expected_conditions as EC\n",
    "from time import sleep\n",
    "import os\n",
    "\n",
    "# Configure Chrome options\n",
    "options = webdriver.ChromeOptions()\n",
    "download_dir = os.path.join(os.getcwd(), 'translations')  # Use os.path.join for compatibility\n",
    "prefs = {\n",
    "    \"download.default_directory\": download_dir,  # Set default download directory\n",
    "    \"download.directory_upgrade\": True,\n",
    "    \"safebrowsing.enabled\": True,  # Ensure safe browsing is enabled to avoid download issues\n",
    "}\n",
    "options.add_experimental_option(\"prefs\", prefs)\n",
    "\n",
    "# Initialize the WebDriver\n",
    "driver = webdriver.Chrome(options=options)\n",
    "\n",
    "try:\n",
    "    # Open Google Translate\n",
    "    driver.get('https://translate.google.com/?sl=ar&tl=en&op=docs')\n",
    "\n",
    "    # Wait for the file input element to be present and upload the file\n",
    "    file_input = WebDriverWait(driver, 10).until(\n",
    "        EC.presence_of_element_located((By.XPATH, '//input[@type=\"file\"]'))\n",
    "    )\n",
    "    \n",
    "    file_path = os.path.join(os.getcwd(), 'shamela_books.xlsx')\n",
    "    file_input.send_keys(file_path)\n",
    "\n",
    "    sleep(1)  # Allow time for the file to upload\n",
    "\n",
    "    # # Find and click the translate button\n",
    "    # translate_button = WebDriverWait(driver, 10).until(\n",
    "    #     EC.element_to_be_clickable((By.XPATH, '//button[div[text()=\"Translate\"] or @aria-label=\"Translate\"]'))\n",
    "    # )\n",
    "    # translate_button.click()\n",
    "\n",
    "    sleep(15)  # Wait for the translation to complete\n",
    "\n",
    "    # Find and click the download button\n",
    "    download_button = WebDriverWait(driver, 10).until(\n",
    "        EC.element_to_be_clickable((By.XPATH, '//button[div[text()=\"Download translation\"] or @aria-label=\"Download translation\"]'))\n",
    "    )\n",
    "    download_button.click()\n",
    "\n",
    "    sleep(5)  # Wait for the download to complete\n",
    "\n",
    "finally:\n",
    "    # Quit the driver after completion\n",
    "    driver.quit()\n"
   ]
  },
  {
   "cell_type": "markdown",
   "metadata": {},
   "source": [
    "## COMBINE"
   ]
  },
  {
   "cell_type": "code",
   "execution_count": 26,
   "metadata": {},
   "outputs": [],
   "source": [
    "import os"
   ]
  },
  {
   "cell_type": "code",
   "execution_count": 29,
   "metadata": {},
   "outputs": [],
   "source": [
    "translated_shards = [pd.read_excel(f\"translations/{file}\") for file in os.listdir(\"translations\")]"
   ]
  },
  {
   "cell_type": "code",
   "execution_count": 33,
   "metadata": {},
   "outputs": [
    {
     "data": {
      "text/html": [
       "<div>\n",
       "<style scoped>\n",
       "    .dataframe tbody tr th:only-of-type {\n",
       "        vertical-align: middle;\n",
       "    }\n",
       "\n",
       "    .dataframe tbody tr th {\n",
       "        vertical-align: top;\n",
       "    }\n",
       "\n",
       "    .dataframe thead th {\n",
       "        text-align: right;\n",
       "    }\n",
       "</style>\n",
       "<table border=\"1\" class=\"dataframe\">\n",
       "  <thead>\n",
       "    <tr style=\"text-align: right;\">\n",
       "      <th></th>\n",
       "      <th>Unnamed: 0</th>\n",
       "      <th>Arabic</th>\n",
       "    </tr>\n",
       "  </thead>\n",
       "  <tbody>\n",
       "    <tr>\n",
       "      <th>0</th>\n",
       "      <td>0</td>\n",
       "      <td>[Our answer may be in a way that makes the so...</td>\n",
       "    </tr>\n",
       "    <tr>\n",
       "      <th>1</th>\n",
       "      <td>1</td>\n",
       "      <td>Some Persian scholars said: Jam continued to ...</td>\n",
       "    </tr>\n",
       "    <tr>\n",
       "      <th>2</th>\n",
       "      <td>2</td>\n",
       "      <td>The servant said to him: If nothing would bene...</td>\n",
       "    </tr>\n",
       "    <tr>\n",
       "      <th>3</th>\n",
       "      <td>3</td>\n",
       "      <td>120) They call the two months of summer in wh...</td>\n",
       "    </tr>\n",
       "    <tr>\n",
       "      <th>4</th>\n",
       "      <td>4</td>\n",
       "      <td>O Moses, you call upon God and do not ask Him...</td>\n",
       "    </tr>\n",
       "    <tr>\n",
       "      <th>...</th>\n",
       "      <td>...</td>\n",
       "      <td>...</td>\n",
       "    </tr>\n",
       "    <tr>\n",
       "      <th>5055</th>\n",
       "      <td>5055</td>\n",
       "      <td>Saeed bin Al-Musayyab did not see any harm in...</td>\n",
       "    </tr>\n",
       "    <tr>\n",
       "      <th>5056</th>\n",
       "      <td>5056</td>\n",
       "      <td>Unfortunately, the book has not reached us in ...</td>\n",
       "    </tr>\n",
       "    <tr>\n",
       "      <th>5057</th>\n",
       "      <td>5057</td>\n",
       "      <td>[This is what we wanted to mention in “Divine...</td>\n",
       "    </tr>\n",
       "    <tr>\n",
       "      <th>5058</th>\n",
       "      <td>5058</td>\n",
       "      <td>I said: I still have one need.</td>\n",
       "    </tr>\n",
       "    <tr>\n",
       "      <th>5059</th>\n",
       "      <td>5059</td>\n",
       "      <td>Al-Qaim: Abu al-Qasim Abd al-Rahman ibn Ubayd...</td>\n",
       "    </tr>\n",
       "  </tbody>\n",
       "</table>\n",
       "<p>5060 rows × 2 columns</p>\n",
       "</div>"
      ],
      "text/plain": [
       "      Unnamed: 0                                             Arabic\n",
       "0              0   [Our answer may be in a way that makes the so...\n",
       "1              1   Some Persian scholars said: Jam continued to ...\n",
       "2              2  The servant said to him: If nothing would bene...\n",
       "3              3   120) They call the two months of summer in wh...\n",
       "4              4   O Moses, you call upon God and do not ask Him...\n",
       "...          ...                                                ...\n",
       "5055        5055   Saeed bin Al-Musayyab did not see any harm in...\n",
       "5056        5056  Unfortunately, the book has not reached us in ...\n",
       "5057        5057   [This is what we wanted to mention in “Divine...\n",
       "5058        5058                     I said: I still have one need.\n",
       "5059        5059   Al-Qaim: Abu al-Qasim Abd al-Rahman ibn Ubayd...\n",
       "\n",
       "[5060 rows x 2 columns]"
      ]
     },
     "execution_count": 33,
     "metadata": {},
     "output_type": "execute_result"
    }
   ],
   "source": [
    "translated_shards[0]"
   ]
  },
  {
   "cell_type": "code",
   "execution_count": 38,
   "metadata": {},
   "outputs": [],
   "source": [
    "for i in range(len(shards)):\n",
    "    shards[i] = shards[i].reset_index(drop=True)\n",
    "    shards[i]['English'] = translated_shards[i][\"Arabic\"]"
   ]
  },
  {
   "cell_type": "code",
   "execution_count": 45,
   "metadata": {},
   "outputs": [],
   "source": [
    "df = pd.concat(shards).reset_index(drop=True)"
   ]
  },
  {
   "cell_type": "code",
   "execution_count": 55,
   "metadata": {},
   "outputs": [
    {
     "data": {
      "text/plain": [
       "array([['وتفكر في إخلالك بعلمك، فانك لا تعمل بما علمت منه فعلمك عليك حجة حينئذ، لقد كان أسلم لك لو لم تكن عالماً. واعلم ان الجاهل حينئذ أعقل منك وأحسن حالاً وأعذر، فليسقط عجبك بالكلية.',\n",
       "        ' Think about your failure to use your knowledge, for you do not act upon what you have learned, so your knowledge is an argument against you at that time. It would have been safer for you if you were not knowledgeable. Know that the ignorant person at that time is more intelligent than you, better off, and more excused, so let your arrogance fall completely.']],\n",
       "      dtype=object)"
      ]
     },
     "execution_count": 55,
     "metadata": {},
     "output_type": "execute_result"
    }
   ],
   "source": [
    "df.sample().values"
   ]
  },
  {
   "cell_type": "code",
   "execution_count": 56,
   "metadata": {},
   "outputs": [],
   "source": [
    "df.to_csv(\"./../shamela_dataset.csv\")"
   ]
  },
  {
   "cell_type": "code",
   "execution_count": null,
   "metadata": {},
   "outputs": [],
   "source": []
  }
 ],
 "metadata": {
  "kernelspec": {
   "display_name": "general",
   "language": "python",
   "name": "python3"
  },
  "language_info": {
   "codemirror_mode": {
    "name": "ipython",
    "version": 3
   },
   "file_extension": ".py",
   "mimetype": "text/x-python",
   "name": "python",
   "nbconvert_exporter": "python",
   "pygments_lexer": "ipython3",
   "version": "3.11.9"
  }
 },
 "nbformat": 4,
 "nbformat_minor": 2
}
