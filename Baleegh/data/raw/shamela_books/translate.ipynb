{
 "cells": [
  {
   "cell_type": "code",
   "execution_count": 1,
   "metadata": {},
   "outputs": [],
   "source": [
    "import json\n",
    "# Open and read the JSON file\n",
    "with open('./divided.json', 'r') as file:\n",
    "    data = json.load(file)\n",
    "    \n",
    "data[list(data.keys())[2]] = data[list(data.keys())[2]][:-90]\n",
    "_ = data.pop('كتاب رسائل ابن حزم'), data.pop('كتاب الحيوان')"
   ]
  },
  {
   "cell_type": "code",
   "execution_count": 5,
   "metadata": {},
   "outputs": [],
   "source": [
    "def prepare_text(text):\n",
    "    import re\n",
    "    text = re.sub(r'[\\[\\(<«](\\d+)[\\]\\)>»]', '', text)\n",
    "    text = re.sub(r'\\s+', ' ', text)\n",
    "    text = text.strip()\n",
    "    return text"
   ]
  },
  {
   "cell_type": "code",
   "execution_count": 6,
   "metadata": {},
   "outputs": [],
   "source": [
    "import pandas as pd\n",
    "df = pd.DataFrame(columns=['text', 'book'])\n",
    "\n",
    "for title in list(data.keys()):\n",
    "    df1 = pd.DataFrame()\n",
    "    texts = data[title]\n",
    "    \n",
    "    temp = pd.DataFrame(texts)\n",
    "    \n",
    "    str_ = ' '.join(temp.astype(str).values.flatten())\n",
    "    \n",
    "    temp = pd.DataFrame([str_])\n",
    "    \n",
    "    df1['text'] = temp[0].str.replace(r'((?<!\\.)\\.(?!\\.))|(؟)', r'\\1\\2#', regex=True).str.split(r\"#\").explode()\n",
    "    df1['text'] = df1['text'].map(prepare_text)\n",
    "    \n",
    "    df1['book'] = title\n",
    "    \n",
    "    df = pd.concat([df, df1])\n",
    "\n",
    "df = df[df['text'].str.len() > 6]\n",
    "df = df[~df['text'].str.contains('\\.\\.\\.')]\n",
    "df.reset_index(inplace=True, drop=True)"
   ]
  },
  {
   "cell_type": "code",
   "execution_count": 15,
   "metadata": {},
   "outputs": [
    {
     "data": {
      "text/html": [
       "<div>\n",
       "<style scoped>\n",
       "    .dataframe tbody tr th:only-of-type {\n",
       "        vertical-align: middle;\n",
       "    }\n",
       "\n",
       "    .dataframe tbody tr th {\n",
       "        vertical-align: top;\n",
       "    }\n",
       "\n",
       "    .dataframe thead th {\n",
       "        text-align: right;\n",
       "    }\n",
       "</style>\n",
       "<table border=\"1\" class=\"dataframe\">\n",
       "  <thead>\n",
       "    <tr style=\"text-align: right;\">\n",
       "      <th></th>\n",
       "      <th>text</th>\n",
       "      <th>book</th>\n",
       "    </tr>\n",
       "  </thead>\n",
       "  <tbody>\n",
       "    <tr>\n",
       "      <th>0</th>\n",
       "      <td>[باب في الدخول على الملوك] [دخول الأشراف] إن ك...</td>\n",
       "      <td>كتاب التاج في أخلاق الملوك</td>\n",
       "    </tr>\n",
       "    <tr>\n",
       "      <th>1</th>\n",
       "      <td>فإن استدناه، قرب منه، فأكب على أطرافه يقبلها، ...</td>\n",
       "      <td>كتاب التاج في أخلاق الملوك</td>\n",
       "    </tr>\n",
       "    <tr>\n",
       "      <th>2</th>\n",
       "      <td>فإن أومأ إليه بالقعود، قعد.</td>\n",
       "      <td>كتاب التاج في أخلاق الملوك</td>\n",
       "    </tr>\n",
       "    <tr>\n",
       "      <th>3</th>\n",
       "      <td>فإن كلمه، أجابه بانخفاض صوتٍ، وقلة حركة.</td>\n",
       "      <td>كتاب التاج في أخلاق الملوك</td>\n",
       "    </tr>\n",
       "    <tr>\n",
       "      <th>4</th>\n",
       "      <td>وإن سكت، نهض من ساعته، قبل أن يتمكن به مجلسه ب...</td>\n",
       "      <td>كتاب التاج في أخلاق الملوك</td>\n",
       "    </tr>\n",
       "    <tr>\n",
       "      <th>...</th>\n",
       "      <td>...</td>\n",
       "      <td>...</td>\n",
       "    </tr>\n",
       "    <tr>\n",
       "      <th>13565</th>\n",
       "      <td>وأما في الحقيقة فذلك إنما هو بإرادة من لا يعتر...</td>\n",
       "      <td>كتاب شرح تشريح القانون لابن سينا</td>\n",
       "    </tr>\n",
       "    <tr>\n",
       "      <th>13566</th>\n",
       "      <td>كمل ذلك ولله الحمد والمنّة ونسأله السّلامة في ...</td>\n",
       "      <td>كتاب شرح تشريح القانون لابن سينا</td>\n",
       "    </tr>\n",
       "    <tr>\n",
       "      <th>13567</th>\n",
       "      <td>النسخة م: آخره ولله الحمد والمنّة وصلى الله عل...</td>\n",
       "      <td>كتاب شرح تشريح القانون لابن سينا</td>\n",
       "    </tr>\n",
       "    <tr>\n",
       "      <th>13568</th>\n",
       "      <td>تمت في تاريخ شهر ذي القعدة الحرام بعد ما خلت ث...</td>\n",
       "      <td>كتاب شرح تشريح القانون لابن سينا</td>\n",
       "    </tr>\n",
       "    <tr>\n",
       "      <th>13569</th>\n",
       "      <td>يقول الدكتور الطبيب الأستاذ: سلمان قطاية السور...</td>\n",
       "      <td>كتاب شرح تشريح القانون لابن سينا</td>\n",
       "    </tr>\n",
       "  </tbody>\n",
       "</table>\n",
       "<p>13570 rows × 2 columns</p>\n",
       "</div>"
      ],
      "text/plain": [
       "                                                    text  \\\n",
       "0      [باب في الدخول على الملوك] [دخول الأشراف] إن ك...   \n",
       "1      فإن استدناه، قرب منه، فأكب على أطرافه يقبلها، ...   \n",
       "2                            فإن أومأ إليه بالقعود، قعد.   \n",
       "3               فإن كلمه، أجابه بانخفاض صوتٍ، وقلة حركة.   \n",
       "4      وإن سكت، نهض من ساعته، قبل أن يتمكن به مجلسه ب...   \n",
       "...                                                  ...   \n",
       "13565  وأما في الحقيقة فذلك إنما هو بإرادة من لا يعتر...   \n",
       "13566  كمل ذلك ولله الحمد والمنّة ونسأله السّلامة في ...   \n",
       "13567  النسخة م: آخره ولله الحمد والمنّة وصلى الله عل...   \n",
       "13568  تمت في تاريخ شهر ذي القعدة الحرام بعد ما خلت ث...   \n",
       "13569  يقول الدكتور الطبيب الأستاذ: سلمان قطاية السور...   \n",
       "\n",
       "                                   book  \n",
       "0            كتاب التاج في أخلاق الملوك  \n",
       "1            كتاب التاج في أخلاق الملوك  \n",
       "2            كتاب التاج في أخلاق الملوك  \n",
       "3            كتاب التاج في أخلاق الملوك  \n",
       "4            كتاب التاج في أخلاق الملوك  \n",
       "...                                 ...  \n",
       "13565  كتاب شرح تشريح القانون لابن سينا  \n",
       "13566  كتاب شرح تشريح القانون لابن سينا  \n",
       "13567  كتاب شرح تشريح القانون لابن سينا  \n",
       "13568  كتاب شرح تشريح القانون لابن سينا  \n",
       "13569  كتاب شرح تشريح القانون لابن سينا  \n",
       "\n",
       "[13570 rows x 2 columns]"
      ]
     },
     "execution_count": 15,
     "metadata": {},
     "output_type": "execute_result"
    }
   ],
   "source": [
    "df"
   ]
  },
  {
   "cell_type": "code",
   "execution_count": 19,
   "metadata": {},
   "outputs": [],
   "source": [
    "df.loc[:, 'text'].to_excel('Arabic.xlsx')"
   ]
  },
  {
   "cell_type": "code",
   "execution_count": 25,
   "metadata": {},
   "outputs": [],
   "source": [
    "df_en = pd.read_excel(\"./en.xlsx\").drop(columns=['Unnamed: 0'])"
   ]
  },
  {
   "cell_type": "code",
   "execution_count": 32,
   "metadata": {},
   "outputs": [],
   "source": [
    "df['en'] = df_en['text']\n",
    "df['ar'] = df['text']\n",
    "df = df.drop(columns=['text'])"
   ]
  },
  {
   "cell_type": "code",
   "execution_count": 42,
   "metadata": {},
   "outputs": [
    {
     "data": {
      "text/plain": [
       "array([['كتاب التاج في أخلاق الملوك',\n",
       "        ' So he asked permission, and the chamberlain said to him: This is not the time to give permission to the prince.',\n",
       "        'فاستأذنن فقال له الحاجب: ليس هذا بوقت إذنٍ على الأمير.']],\n",
       "      dtype=object)"
      ]
     },
     "execution_count": 42,
     "metadata": {},
     "output_type": "execute_result"
    }
   ],
   "source": [
    "df.sample().values"
   ]
  },
  {
   "cell_type": "code",
   "execution_count": null,
   "metadata": {},
   "outputs": [],
   "source": [
    "from openai import OpenAI\n",
    "client = OpenAI(api_key='REDACTED')\n",
    "import random\n",
    "\n",
    "for i in range(5):\n",
    "    sample = df.loc[random.randint(1, 12000), 'text']\n",
    "    \n",
    "    completion2 = client.chat.completions.create(\n",
    "        model=\"gpt-4o\",\n",
    "        messages=[\n",
    "            {\"role\": \"user\", \"content\": f\"\"\"\n",
    "Arabic: {sample}\n",
    "English:\n",
    "            \"\"\"}\n",
    "        ]\n",
    "    )\n",
    "    \n",
    "    print(sample)\n",
    "    print(completion2.choices[0].message.content)\n",
    "    print(\"-\"*50)"
   ]
  },
  {
   "cell_type": "code",
   "execution_count": 44,
   "metadata": {},
   "outputs": [],
   "source": [
    "df.to_csv(\"Finished.csv\")"
   ]
  },
  {
   "cell_type": "code",
   "execution_count": null,
   "metadata": {},
   "outputs": [],
   "source": []
  }
 ],
 "metadata": {
  "kernelspec": {
   "display_name": "Faseeh",
   "language": "python",
   "name": "python3"
  },
  "language_info": {
   "codemirror_mode": {
    "name": "ipython",
    "version": 3
   },
   "file_extension": ".py",
   "mimetype": "text/x-python",
   "name": "python",
   "nbconvert_exporter": "python",
   "pygments_lexer": "ipython3",
   "version": "3.11.9"
  }
 },
 "nbformat": 4,
 "nbformat_minor": 2
}
