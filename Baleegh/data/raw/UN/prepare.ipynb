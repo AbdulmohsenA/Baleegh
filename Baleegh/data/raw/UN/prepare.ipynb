{
 "cells": [
  {
   "cell_type": "code",
   "execution_count": 1,
   "metadata": {},
   "outputs": [],
   "source": [
    "from datasets import load_dataset\n"
   ]
  },
  {
   "cell_type": "code",
   "execution_count": 9,
   "metadata": {},
   "outputs": [
    {
     "data": {
      "application/vnd.jupyter.widget-view+json": {
       "model_id": "6f8b59819a5d4ec1b078609b8d5f6bb6",
       "version_major": 2,
       "version_minor": 0
      },
      "text/plain": [
       "Resolving data files:   0%|          | 0/17 [00:00<?, ?it/s]"
      ]
     },
     "metadata": {},
     "output_type": "display_data"
    },
    {
     "data": {
      "application/vnd.jupyter.widget-view+json": {
       "model_id": "4338f68d34d545d4bac238b1ead6f1f3",
       "version_major": 2,
       "version_minor": 0
      },
      "text/plain": [
       "Resolving data files:   0%|          | 0/17 [00:00<?, ?it/s]"
      ]
     },
     "metadata": {},
     "output_type": "display_data"
    }
   ],
   "source": [
    "ds = load_dataset(\"Helsinki-NLP/un_pc\", \"ar-en\", split='train', streaming=True).shuffle(buffer_size=10_000)\n",
    "ds = ds.batch(batch_size=128)"
   ]
  },
  {
   "cell_type": "code",
   "execution_count": 10,
   "metadata": {},
   "outputs": [],
   "source": [
    "import re\n",
    "import evaluate\n",
    "import pandas as pd\n",
    "metric = evaluate.load(\"Abdulmohsena/classicier\")\n",
    "pool = pd.DataFrame(columns=['ar', 'en'])\n",
    "\n",
    "def process_and_filter(batch):\n",
    "    df = pd.DataFrame(batch['translation'])\n",
    "    df = df[~df['ar'].str.contains(r\"[A-Za-z1-9\\(\\)]\")]\n",
    "    df = df[~df['en'].str.contains(r\"[1-9\\(\\)]\")]\n",
    "    df = df[df['ar'].str.len() > 30]\n",
    "    df.reset_index(inplace=True, drop=True)\n",
    "    scores = metric.compute(texts=df.loc[:, 'ar'].tolist())\n",
    "    df['classicality'] = scores['classical_score']\n",
    "    \n",
    "    return df[scores['classical_score'] > 0.1]"
   ]
  },
  {
   "cell_type": "code",
   "execution_count": 11,
   "metadata": {},
   "outputs": [],
   "source": [
    "for batch in ds:\n",
    "    df = process_and_filter(batch)\n",
    "    pool = pd.concat([pool, df], ignore_index=True)\n",
    "    if len(pool) > 100:\n",
    "        break"
   ]
  },
  {
   "cell_type": "code",
   "execution_count": 12,
   "metadata": {},
   "outputs": [
    {
     "data": {
      "text/html": [
       "<div>\n",
       "<style scoped>\n",
       "    .dataframe tbody tr th:only-of-type {\n",
       "        vertical-align: middle;\n",
       "    }\n",
       "\n",
       "    .dataframe tbody tr th {\n",
       "        vertical-align: top;\n",
       "    }\n",
       "\n",
       "    .dataframe thead th {\n",
       "        text-align: right;\n",
       "    }\n",
       "</style>\n",
       "<table border=\"1\" class=\"dataframe\">\n",
       "  <thead>\n",
       "    <tr style=\"text-align: right;\">\n",
       "      <th></th>\n",
       "      <th>ar</th>\n",
       "      <th>en</th>\n",
       "      <th>classicality</th>\n",
       "    </tr>\n",
       "  </thead>\n",
       "  <tbody>\n",
       "    <tr>\n",
       "      <th>0</th>\n",
       "      <td>ولم يُدرج العراق في القائمة نظراً إلى فراغ الس...</td>\n",
       "      <td>Iraq was not included in the list because of t...</td>\n",
       "      <td>0.216192</td>\n",
       "    </tr>\n",
       "    <tr>\n",
       "      <th>1</th>\n",
       "      <td>وكلّ هذه الظروف تقوّض بشدّة مبدأ افتراض البراء...</td>\n",
       "      <td>In these conditions, the presumption of innoce...</td>\n",
       "      <td>0.160110</td>\n",
       "    </tr>\n",
       "    <tr>\n",
       "      <th>2</th>\n",
       "      <td>وقد كان عليها أن تصر في طلبها إلى أن سُمح لها ...</td>\n",
       "      <td>They had to insist to obtain visiting rights.</td>\n",
       "      <td>0.817485</td>\n",
       "    </tr>\n",
       "    <tr>\n",
       "      <th>3</th>\n",
       "      <td>فحيازة مثل تلك المواد تحدِث طلباً عليها.</td>\n",
       "      <td>The possession of child pornography creates de...</td>\n",
       "      <td>0.903683</td>\n",
       "    </tr>\n",
       "    <tr>\n",
       "      <th>4</th>\n",
       "      <td>واشتد عليه مرض السل وهو في الحبس.</td>\n",
       "      <td>His tuberculosis became worse while in custody.</td>\n",
       "      <td>0.564334</td>\n",
       "    </tr>\n",
       "    <tr>\n",
       "      <th>...</th>\n",
       "      <td>...</td>\n",
       "      <td>...</td>\n",
       "      <td>...</td>\n",
       "    </tr>\n",
       "    <tr>\n",
       "      <th>96</th>\n",
       "      <td>ويَعْتَبِر النيل من حياة الآخرين جرماً بالغ ال...</td>\n",
       "      <td>Any infringement of this right is a very serio...</td>\n",
       "      <td>0.944233</td>\n",
       "    </tr>\n",
       "    <tr>\n",
       "      <th>97</th>\n",
       "      <td>والفجوة الفاصلة بين الشمال والجنوب وبين الأثري...</td>\n",
       "      <td>The gap between North and South and between ri...</td>\n",
       "      <td>0.224383</td>\n",
       "    </tr>\n",
       "    <tr>\n",
       "      <th>98</th>\n",
       "      <td>ألف- حالة أعمال أفرقة التشاور غير الرسمية</td>\n",
       "      <td>A. Status of work of the informal consultative...</td>\n",
       "      <td>0.207799</td>\n",
       "    </tr>\n",
       "    <tr>\n",
       "      <th>99</th>\n",
       "      <td>والأمية بين الكبار منعدمة تقريباً.</td>\n",
       "      <td>Adult illiteracy is virtually non-existent.</td>\n",
       "      <td>0.187589</td>\n",
       "    </tr>\n",
       "    <tr>\n",
       "      <th>100</th>\n",
       "      <td>ولا تُجدد ولاية الرئيس إلا مرة واحدة.</td>\n",
       "      <td>The President &amp;apos; s mandate is renewable on...</td>\n",
       "      <td>0.924707</td>\n",
       "    </tr>\n",
       "  </tbody>\n",
       "</table>\n",
       "<p>101 rows × 3 columns</p>\n",
       "</div>"
      ],
      "text/plain": [
       "                                                    ar  \\\n",
       "0    ولم يُدرج العراق في القائمة نظراً إلى فراغ الس...   \n",
       "1    وكلّ هذه الظروف تقوّض بشدّة مبدأ افتراض البراء...   \n",
       "2    وقد كان عليها أن تصر في طلبها إلى أن سُمح لها ...   \n",
       "3             فحيازة مثل تلك المواد تحدِث طلباً عليها.   \n",
       "4                    واشتد عليه مرض السل وهو في الحبس.   \n",
       "..                                                 ...   \n",
       "96   ويَعْتَبِر النيل من حياة الآخرين جرماً بالغ ال...   \n",
       "97   والفجوة الفاصلة بين الشمال والجنوب وبين الأثري...   \n",
       "98           ألف- حالة أعمال أفرقة التشاور غير الرسمية   \n",
       "99                  والأمية بين الكبار منعدمة تقريباً.   \n",
       "100              ولا تُجدد ولاية الرئيس إلا مرة واحدة.   \n",
       "\n",
       "                                                    en  classicality  \n",
       "0    Iraq was not included in the list because of t...      0.216192  \n",
       "1    In these conditions, the presumption of innoce...      0.160110  \n",
       "2        They had to insist to obtain visiting rights.      0.817485  \n",
       "3    The possession of child pornography creates de...      0.903683  \n",
       "4      His tuberculosis became worse while in custody.      0.564334  \n",
       "..                                                 ...           ...  \n",
       "96   Any infringement of this right is a very serio...      0.944233  \n",
       "97   The gap between North and South and between ri...      0.224383  \n",
       "98   A. Status of work of the informal consultative...      0.207799  \n",
       "99         Adult illiteracy is virtually non-existent.      0.187589  \n",
       "100  The President &apos; s mandate is renewable on...      0.924707  \n",
       "\n",
       "[101 rows x 3 columns]"
      ]
     },
     "execution_count": 12,
     "metadata": {},
     "output_type": "execute_result"
    }
   ],
   "source": [
    "pool"
   ]
  },
  {
   "cell_type": "code",
   "execution_count": 118,
   "metadata": {},
   "outputs": [
    {
     "data": {
      "text/plain": [
       "array([[':: الوسم والتتبع؛', 'marking and tracing;', 0.594916582107544]],\n",
       "      dtype=object)"
      ]
     },
     "execution_count": 118,
     "metadata": {},
     "output_type": "execute_result"
    }
   ],
   "source": [
    "pool.sample().values"
   ]
  }
 ],
 "metadata": {
  "kernelspec": {
   "display_name": "Faseeh",
   "language": "python",
   "name": "python3"
  },
  "language_info": {
   "codemirror_mode": {
    "name": "ipython",
    "version": 3
   },
   "file_extension": ".py",
   "mimetype": "text/x-python",
   "name": "python",
   "nbconvert_exporter": "python",
   "pygments_lexer": "ipython3",
   "version": "3.11.9"
  }
 },
 "nbformat": 4,
 "nbformat_minor": 2
}
