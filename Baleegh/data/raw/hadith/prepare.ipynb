{
 "cells": [
  {
   "cell_type": "code",
   "execution_count": 1,
   "metadata": {},
   "outputs": [],
   "source": [
    "import numpy as np\n",
    "import pandas as pd\n",
    "import re\n",
    "import torch\n",
    "import os\n",
    "from torch.utils.data import DataLoader, random_split, Dataset\n",
    "import requests\n",
    "from datasets import load_dataset\n",
    "from datasets import Dataset"
   ]
  },
  {
   "cell_type": "code",
   "execution_count": 2,
   "metadata": {},
   "outputs": [],
   "source": [
    "hadith_df = load_dataset(\"arbml/LK_Hadith\")['train'].to_pandas()\n",
    "hadith_df = hadith_df.loc[:, ['English_Matn', 'Arabic_Matn']]\n",
    "hadith_df.rename(columns={\"English_Matn\": \"en\", \"Arabic_Matn\": \"ar\"}, inplace=True)"
   ]
  },
  {
   "cell_type": "code",
   "execution_count": 3,
   "metadata": {},
   "outputs": [],
   "source": [
    "abuamina_df = pd.read_csv(\"./abuamina_hadith.csv\").iloc[:, 1:]\n",
    "\n",
    "first_column_data = abuamina_df.pop(\"Arabic\")\n",
    "\n",
    "# Insert the column back in the second position (index 1)\n",
    "abuamina_df.insert(1, \"Arabic\", first_column_data)\n",
    "\n",
    "abuamina_df.rename(columns={\"English\": \"en\", \"Arabic\": \"ar\"}, inplace=True)"
   ]
  },
  {
   "cell_type": "code",
   "execution_count": 5,
   "metadata": {},
   "outputs": [],
   "source": [
    "# Backtranslation, COMET scoring, NER\n",
    "\n",
    "# hisn_df = pd.read_csv(\"./hisnulmuslim_processed.csv\")\n",
    "\n",
    "# first_column_data = hisn_df.pop(\"arabic\")\n",
    "\n",
    "# # Insert the column back in the second position (index 1)\n",
    "# hisn_df.insert(1, \"arabic\", first_column_data)\n",
    "\n",
    "# hisn_df.rename(columns={\"gpt_english\": \"en\", \"arabic\": \"ar\"}, inplace=True)"
   ]
  },
  {
   "cell_type": "code",
   "execution_count": 34,
   "metadata": {},
   "outputs": [
    {
     "data": {
      "text/plain": [
       "array([['Remain upright and it is a blessing if you can do so. The best of your good deeds is prayer and none can preserve his ablution but a believer.',\n",
       "        'اسْتَقِيمُوا وَنِعِمَّا إِنْ تَسْتَقيِمُوا وَخَيْرُ أَعْمَالِكُمُ الصَّلَاةُ وَلَا يُحَافِظُ عَلَى الْوُضُوءِ إِلَّا مُؤْمِنٌ']],\n",
       "      dtype=object)"
      ]
     },
     "execution_count": 34,
     "metadata": {},
     "output_type": "execute_result"
    }
   ],
   "source": [
    "abuamina_df.sample().values"
   ]
  },
  {
   "cell_type": "code",
   "execution_count": 35,
   "metadata": {},
   "outputs": [],
   "source": [
    "abuamina_df.to_csv(\"Finished.csv\")"
   ]
  }
 ],
 "metadata": {
  "kernelspec": {
   "display_name": "Faseeh",
   "language": "python",
   "name": "python3"
  },
  "language_info": {
   "codemirror_mode": {
    "name": "ipython",
    "version": 3
   },
   "file_extension": ".py",
   "mimetype": "text/x-python",
   "name": "python",
   "nbconvert_exporter": "python",
   "pygments_lexer": "ipython3",
   "version": "3.11.9"
  }
 },
 "nbformat": 4,
 "nbformat_minor": 2
}
