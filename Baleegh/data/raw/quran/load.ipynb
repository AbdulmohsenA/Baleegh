{
 "cells": [
  {
   "cell_type": "code",
   "execution_count": 85,
   "metadata": {},
   "outputs": [],
   "source": [
    "from datasets import load_dataset\n",
    "import pandas as pd\n",
    "import numpy as np\n",
    "import re\n",
    "import os"
   ]
  },
  {
   "cell_type": "code",
   "execution_count": 47,
   "metadata": {},
   "outputs": [],
   "source": [
    "# Load the dataset\n",
    "dataset = load_dataset(\"imruqays/quran-classical-arabic-english-parallel-texts\")\n",
    "df = dataset['train'].to_pandas()"
   ]
  },
  {
   "cell_type": "code",
   "execution_count": 194,
   "metadata": {},
   "outputs": [
    {
     "data": {
      "text/html": [
       "<div>\n",
       "<style scoped>\n",
       "    .dataframe tbody tr th:only-of-type {\n",
       "        vertical-align: middle;\n",
       "    }\n",
       "\n",
       "    .dataframe tbody tr th {\n",
       "        vertical-align: top;\n",
       "    }\n",
       "\n",
       "    .dataframe thead th {\n",
       "        text-align: right;\n",
       "    }\n",
       "</style>\n",
       "<table border=\"1\" class=\"dataframe\">\n",
       "  <thead>\n",
       "    <tr style=\"text-align: right;\">\n",
       "      <th></th>\n",
       "      <th>arabic-uthmanic</th>\n",
       "      <th>arabic-imlaei</th>\n",
       "      <th>en-ahmedali</th>\n",
       "      <th>en-ahmedraza</th>\n",
       "      <th>en-arberry</th>\n",
       "      <th>en-asad</th>\n",
       "      <th>en-daryabadi</th>\n",
       "      <th>en-hilali</th>\n",
       "      <th>en-itani</th>\n",
       "      <th>en-maududi</th>\n",
       "      <th>en-mubarakpuri</th>\n",
       "      <th>en-pickthall</th>\n",
       "      <th>en-qarai</th>\n",
       "      <th>en-qaribullah</th>\n",
       "      <th>en-sahih</th>\n",
       "      <th>en-sarwar</th>\n",
       "      <th>en-shakir</th>\n",
       "      <th>en-wahiduddi</th>\n",
       "      <th>en-yusufali</th>\n",
       "    </tr>\n",
       "  </thead>\n",
       "  <tbody>\n",
       "    <tr>\n",
       "      <th>5230</th>\n",
       "      <td>وَإِذْ أَسَرَّ ٱلنَّبِىُّ إِلَىٰ بَعْضِ أَزْوَ...</td>\n",
       "      <td>وَإِذ أَسَرَّ النَّبِيُّ إِلىٰ بَعضِ أَزواجِهِ...</td>\n",
       "      <td>When the Prophet told one of his wives somethi...</td>\n",
       "      <td>And when the Holy Prophet confided a matter to...</td>\n",
       "      <td>And when the Prophet confided to one of his wi...</td>\n",
       "      <td>And lo! [It so happened that] the Prophet told...</td>\n",
       "      <td>And recall what time the Prophet confided a st...</td>\n",
       "      <td>And (remember) when the Prophet (SAW) disclose...</td>\n",
       "      <td>The Prophet told something in confidence to on...</td>\n",
       "      <td>The Prophet confided something to one of his w...</td>\n",
       "      <td>And (remember) when the Prophet disclosed a ma...</td>\n",
       "      <td>When the Prophet confided a fact unto one of h...</td>\n",
       "      <td>When the Prophet confided a matter to one of h...</td>\n",
       "      <td>The Prophet confided a certain matter to one o...</td>\n",
       "      <td>And [remember] when the Prophet confided to on...</td>\n",
       "      <td>The Prophet told a secret to one of his wives ...</td>\n",
       "      <td>And when the prophet secretly communicated a p...</td>\n",
       "      <td>The Prophet once told one of his wives somethi...</td>\n",
       "      <td>When the Prophet disclosed a matter in confide...</td>\n",
       "    </tr>\n",
       "  </tbody>\n",
       "</table>\n",
       "</div>"
      ],
      "text/plain": [
       "                                        arabic-uthmanic  \\\n",
       "5230  وَإِذْ أَسَرَّ ٱلنَّبِىُّ إِلَىٰ بَعْضِ أَزْوَ...   \n",
       "\n",
       "                                          arabic-imlaei  \\\n",
       "5230  وَإِذ أَسَرَّ النَّبِيُّ إِلىٰ بَعضِ أَزواجِهِ...   \n",
       "\n",
       "                                            en-ahmedali  \\\n",
       "5230  When the Prophet told one of his wives somethi...   \n",
       "\n",
       "                                           en-ahmedraza  \\\n",
       "5230  And when the Holy Prophet confided a matter to...   \n",
       "\n",
       "                                             en-arberry  \\\n",
       "5230  And when the Prophet confided to one of his wi...   \n",
       "\n",
       "                                                en-asad  \\\n",
       "5230  And lo! [It so happened that] the Prophet told...   \n",
       "\n",
       "                                           en-daryabadi  \\\n",
       "5230  And recall what time the Prophet confided a st...   \n",
       "\n",
       "                                              en-hilali  \\\n",
       "5230  And (remember) when the Prophet (SAW) disclose...   \n",
       "\n",
       "                                               en-itani  \\\n",
       "5230  The Prophet told something in confidence to on...   \n",
       "\n",
       "                                             en-maududi  \\\n",
       "5230  The Prophet confided something to one of his w...   \n",
       "\n",
       "                                         en-mubarakpuri  \\\n",
       "5230  And (remember) when the Prophet disclosed a ma...   \n",
       "\n",
       "                                           en-pickthall  \\\n",
       "5230  When the Prophet confided a fact unto one of h...   \n",
       "\n",
       "                                               en-qarai  \\\n",
       "5230  When the Prophet confided a matter to one of h...   \n",
       "\n",
       "                                          en-qaribullah  \\\n",
       "5230  The Prophet confided a certain matter to one o...   \n",
       "\n",
       "                                               en-sahih  \\\n",
       "5230  And [remember] when the Prophet confided to on...   \n",
       "\n",
       "                                              en-sarwar  \\\n",
       "5230  The Prophet told a secret to one of his wives ...   \n",
       "\n",
       "                                              en-shakir  \\\n",
       "5230  And when the prophet secretly communicated a p...   \n",
       "\n",
       "                                           en-wahiduddi  \\\n",
       "5230  The Prophet once told one of his wives somethi...   \n",
       "\n",
       "                                            en-yusufali  \n",
       "5230  When the Prophet disclosed a matter in confide...  "
      ]
     },
     "metadata": {},
     "output_type": "display_data"
    },
    {
     "name": "stdout",
     "output_type": "stream",
     "text": [
      "<class 'pandas.core.frame.DataFrame'>\n",
      "RangeIndex: 6235 entries, 0 to 6234\n",
      "Data columns (total 19 columns):\n",
      " #   Column           Non-Null Count  Dtype \n",
      "---  ------           --------------  ----- \n",
      " 0   arabic-uthmanic  6235 non-null   object\n",
      " 1   arabic-imlaei    6235 non-null   object\n",
      " 2   en-ahmedali      6235 non-null   object\n",
      " 3   en-ahmedraza     6235 non-null   object\n",
      " 4   en-arberry       6235 non-null   object\n",
      " 5   en-asad          6235 non-null   object\n",
      " 6   en-daryabadi     6235 non-null   object\n",
      " 7   en-hilali        6235 non-null   object\n",
      " 8   en-itani         6235 non-null   object\n",
      " 9   en-maududi       6235 non-null   object\n",
      " 10  en-mubarakpuri   6235 non-null   object\n",
      " 11  en-pickthall     6235 non-null   object\n",
      " 12  en-qarai         6235 non-null   object\n",
      " 13  en-qaribullah    6235 non-null   object\n",
      " 14  en-sahih         6235 non-null   object\n",
      " 15  en-sarwar        6235 non-null   object\n",
      " 16  en-shakir        6235 non-null   object\n",
      " 17  en-wahiduddi     6235 non-null   object\n",
      " 18  en-yusufali      6235 non-null   object\n",
      "dtypes: object(19)\n",
      "memory usage: 925.6+ KB\n"
     ]
    },
    {
     "data": {
      "text/plain": [
       "None"
      ]
     },
     "metadata": {},
     "output_type": "display_data"
    }
   ],
   "source": [
    "display(df.sample())\n",
    "display(df.info())"
   ]
  },
  {
   "cell_type": "code",
   "execution_count": 195,
   "metadata": {},
   "outputs": [],
   "source": [
    "data = df.copy()"
   ]
  },
  {
   "cell_type": "code",
   "execution_count": 196,
   "metadata": {},
   "outputs": [
    {
     "name": "stdout",
     "output_type": "stream",
     "text": [
      "<class 'pandas.core.frame.DataFrame'>\n",
      "RangeIndex: 4817 entries, 0 to 4816\n",
      "Data columns (total 19 columns):\n",
      " #   Column           Non-Null Count  Dtype \n",
      "---  ------           --------------  ----- \n",
      " 0   arabic-uthmanic  4817 non-null   object\n",
      " 1   arabic-imlaei    4817 non-null   object\n",
      " 2   en-ahmedali      4817 non-null   object\n",
      " 3   en-ahmedraza     4817 non-null   object\n",
      " 4   en-arberry       4817 non-null   object\n",
      " 5   en-asad          4817 non-null   object\n",
      " 6   en-daryabadi     4817 non-null   object\n",
      " 7   en-hilali        4817 non-null   object\n",
      " 8   en-itani         4817 non-null   object\n",
      " 9   en-maududi       4817 non-null   object\n",
      " 10  en-mubarakpuri   4817 non-null   object\n",
      " 11  en-pickthall     4817 non-null   object\n",
      " 12  en-qarai         4817 non-null   object\n",
      " 13  en-qaribullah    4817 non-null   object\n",
      " 14  en-sahih         4817 non-null   object\n",
      " 15  en-sarwar        4817 non-null   object\n",
      " 16  en-shakir        4817 non-null   object\n",
      " 17  en-wahiduddi     4817 non-null   object\n",
      " 18  en-yusufali      4817 non-null   object\n",
      "dtypes: object(19)\n",
      "memory usage: 715.2+ KB\n"
     ]
    },
    {
     "data": {
      "text/plain": [
       "None"
      ]
     },
     "metadata": {},
     "output_type": "display_data"
    }
   ],
   "source": [
    "# Remove text between parentheses (Explanatory text which is not originally written in arabic)\n",
    "\n",
    "data = data.map(lambda text: re.sub(r'\\([^)]*\\)|\\[[^]]*\\]', '', text))\n",
    "# Combine dashed verses to complete the sentences.\n",
    "\n",
    "connection_signs = ['-', '—', ':', ';', ',']\n",
    "\n",
    "for index, row in data.iterrows():\n",
    "    \n",
    "    total_connected_sentences = sum(row[column].endswith(connection_sign) \n",
    "                                    for column in data.columns for connection_sign in connection_signs)\n",
    "\n",
    "    # If there is at least 2 translations that say the Ayah is connected with the next, then connect them.\n",
    "    if total_connected_sentences > 3:\n",
    "        for column in data.columns:\n",
    "            data.at[index + 1, column] = f\"{data.at[index, column]} {data.at[index + 1, column]}\"\n",
    "            data.at[index, column] = np.nan\n",
    "\n",
    "data.dropna(inplace=True)\n",
    "data.reset_index(drop=True, inplace=True)\n",
    "\n",
    "display(data.info())"
   ]
  },
  {
   "cell_type": "code",
   "execution_count": 198,
   "metadata": {},
   "outputs": [
    {
     "name": "stdout",
     "output_type": "stream",
     "text": [
      "ٱلْأَعْرَابُ أَشَدُّ كُفْرًا وَنِفَاقًا وَأَجْدَرُ أَلَّا يَعْلَمُوا۟ حُدُودَ مَآ أَنزَلَ ٱللَّهُ عَلَىٰ رَسُولِهِۦ وَٱللَّهُ عَلِيمٌ حَكِيمٌ\n",
      "\n",
      "الأَعرابُ أَشَدُّ كُفرًا وَنِفاقًا وَأَجدَرُ أَلّا يَعلَموا حُدودَ ما أَنزَلَ اللَّهُ عَلىٰ رَسولِهِ وَاللَّهُ عَليمٌ حَكيمٌ\n",
      "\n",
      "The village Arabs are more obstinate in disbelief and hypocrisy, and impervious to ordinances revealed to His Apostle by God; yet God is aware of everything and is wise.\n",
      "\n",
      "The ignorant are more severe in disbelief and hypocrisy, and deserve to remain ignorant of the commands which Allah has revealed to His Noble Messenger; and Allah is All Knowing, Wise.\n",
      "\n",
      "The Bedouins are more stubborn in unbelief and hypocrisy, and apter not to know the bounds of what God has sent down on His Messenger; and God is All-knowing, All-wise.\n",
      "\n",
      " the bedouin are more tenacious in  refusal to acknowledge the truth and in  hypocrisy , and more liable to ignore the ordinances which God has bestowed from on high upon His Apostle - but God is all-knowing, wise.\n",
      "\n",
      "The dwellers of the desert are the hardest in infidelity and hypocrisy and likeliest not to know the ordinances of that which Allah hath sent down unto His apostle. And Allah is Knowing, Wise.\n",
      "\n",
      "The bedouins are the worst in disbelief and hypocrisy, and more likely to be in ignorance of the limits  which Allah has revealed to His Messenger. And Allah is All-Knower, All-Wise.\n",
      "\n",
      "The Desert-Arabs are the most steeped in disbelief and hypocrisy, and the most likely to ignore the limits that God revealed to His Messenger. God is Knowing and Wise.\n",
      "\n",
      "The bedouin Arabs surpass all in unbelief and hypocrisy and are most likely to be unaware of the limits prescribed by Allah in what He has revealed to His Messenger. Allah is All-Knowing, All-Wise.\n",
      "\n",
      "The bedouins are the worst in disbelief and hypocrisy, and more likely to not know the limits which Allah has revealed to His Messenger. And Allah is All-Knower, All-Wise.\n",
      "\n",
      "The wandering Arabs are more hard in disbelief and hypocrisy, and more likely to be ignorant of the limits which Allah hath revealed unto His messenger. And Allah is Knower, Wise.\n",
      "\n",
      "The Bedouins are more obdurate in unfaith and hypocrisy, and more apt to be ignorant of the precepts that Allah has sent down to His Apostle, and Allah is all-knowing, all-wise.\n",
      "\n",
      "The Bedouin Arabs surpass  in disbelief and hypocrisy, and are more likely not to know the bounds that Allah has sent down to His Messenger. But Allah is Knowing, Wise.\n",
      "\n",
      "The bedouins are stronger in disbelief and hypocrisy and more likely not to know the limits of what  Allah has revealed to His Messenger. And Allah is Knowing and Wise.\n",
      "\n",
      "The desert dwelling Arabs are far worse than the others in their disbelief and hypocrisy and have more reason to be ignorant of the revelations that God revealed to His Messenger. God is All-knowing and All-wise.\n",
      "\n",
      "The dwellers of the desert are very hard in unbelief and hypocrisy, and more disposed not to know the limits of what Allah has revealed to His Apostle; and Allah is Knowing, Wise.\n",
      "\n",
      "The desert Arabs are more stubborn in their denial of truth and hypocrisy, and are the least likely to be aware of the limits which God has revealed to His Messenger. God is all knowing and wise.\n",
      "\n",
      "The Arabs of the desert are the worst in Unbelief and hypocrisy, and most fitted to be in ignorance of the command which Allah hath sent down to His Messenger: But Allah is All-knowing, All-Wise.\n",
      "\n"
     ]
    }
   ],
   "source": [
    "for col in df.columns:\n",
    "    print(data.loc[1234, col], end=\"\\n\\n\")"
   ]
  },
  {
   "cell_type": "code",
   "execution_count": 199,
   "metadata": {},
   "outputs": [
    {
     "name": "stdout",
     "output_type": "stream",
     "text": [
      "Go to https://translate.google.com/?sl=en&tl=ar&op=docs and translate the file, then put it in google drive\n",
      "If there is more translation services, APPLY THEM, The amount of potential data is huge\n"
     ]
    }
   ],
   "source": [
    "# Due to size limits on translators\n",
    "def create_shards(data):\n",
    "    shard_size = 0\n",
    "    shard_number = 1\n",
    "    start_index = 0\n",
    "    \n",
    "    while start_index < len(data):\n",
    "\n",
    "        end_index = start_index\n",
    "        while end_index < len(data):\n",
    "            shard_size = shard_number * 1500\n",
    "\n",
    "            if end_index > shard_size:\n",
    "                break\n",
    "            \n",
    "            end_index += 1\n",
    "\n",
    "        shard = data.iloc[start_index:end_index]\n",
    "        shard.to_excel(f\"./shards/shard_no_parantheses_{shard_number}.xlsx\", index=False)\n",
    "\n",
    "        start_index = end_index\n",
    "        shard_number += 1\n",
    "\n",
    "create_shards(data.iloc[:, 2:])\n",
    "\n",
    "\n",
    "print(\"Go to https://translate.google.com/?sl=en&tl=ar&op=docs and translate the file, then put it in google drive\")\n",
    "print(\"If there is more translation services, APPLY THEM, The amount of potential data is huge\")"
   ]
  },
  {
   "cell_type": "code",
   "execution_count": 201,
   "metadata": {},
   "outputs": [],
   "source": [
    "translated = pd.concat([pd.read_excel(\"./translated_v2/\" + file) for file in os.listdir('./translated_v2/')]).reset_index(drop=True)"
   ]
  },
  {
   "cell_type": "code",
   "execution_count": 219,
   "metadata": {},
   "outputs": [],
   "source": [
    "arabic_data = pd.concat([data.iloc[:, 1].to_frame(), translated], axis=1)"
   ]
  },
  {
   "cell_type": "code",
   "execution_count": 220,
   "metadata": {},
   "outputs": [],
   "source": [
    "def prepare_text(text):\n",
    "    \n",
    "    if pd.isna(text):\n",
    "        return np.nan\n",
    "    \n",
    "    # Convert text to lowercase\n",
    "    text = text.lower()\n",
    "    \n",
    "    # Remove text between parentheses (Explanatory text which is not originally written in arabic)\n",
    "    text = re.sub(r'\\([^)]*\\)', '', text)\n",
    "    text = re.sub(r'\\[[^]]*\\)', '', text)\n",
    "    \n",
    "    # Remove dashes and commas\n",
    "    text = re.sub(r'[\\.!-,:;‘’“”\\\"\\'\\?]+', '', text)\n",
    "    \n",
    "    # Remove diacritics\n",
    "    text = re.sub(r'[^\\u0621-\\u064A\\s]+', '', text)\n",
    "    \n",
    "    # Remove extra spaces\n",
    "    text = re.sub(r'\\s+', ' ', text)\n",
    "    \n",
    "    return text\n",
    "\n",
    "arabic_data = arabic_data.map(prepare_text)"
   ]
  },
  {
   "cell_type": "code",
   "execution_count": 223,
   "metadata": {},
   "outputs": [],
   "source": [
    "# Remove empty strings and starting ayat like \"ألر\"\n",
    "arabic_data = arabic_data.map(lambda x: np.nan if\n",
    "                              pd.isna(x) or\n",
    "                              len(x) < 5 or\n",
    "                              x.startswith('بسم الله الرحمن الرحيم') and len(x) < 30\n",
    "                              else x)\n",
    "\n",
    "arabic_data = arabic_data[arabic_data['arabic-imlaei'].notna()].reset_index(drop=True)"
   ]
  },
  {
   "cell_type": "code",
   "execution_count": 224,
   "metadata": {},
   "outputs": [],
   "source": [
    "# Fill NaN values with neighbours\n",
    "arabic_data = arabic_data.ffill(axis=1)"
   ]
  },
  {
   "cell_type": "markdown",
   "metadata": {},
   "source": [
    "## The Cleaned Dataset"
   ]
  },
  {
   "cell_type": "code",
   "execution_count": 257,
   "metadata": {},
   "outputs": [
    {
     "name": "stdout",
     "output_type": "stream",
     "text": [
      "إن المنافقين يخادعون الله وهو خادعهم وإذا قاموا إلى الصلاة قاموا كسالى يراءون الناس ولا يذكرون الله إلا قليلا مذبذبين بين ذلك لا إلى هؤلاء ولا إلى هؤلاء ومن يضلل الله فلن تجد له سبيلا\n",
      "\n",
      " إن المنافقين يحاولون خداع الله وهو يخدع أنفسهم وإذا قاموا إلى الصلاة فعلوها كسالى لا إلا رياء ولا يذكرون الله إلا قليلا مترددين بين ذلك لا مع هؤلاء ولا مع هؤلاء ومن لم يهديه الله فلن تجد له سبيلا\n",
      "\n",
      "ولا شك أن المنافقون في أهوائهم يريدون خداع الله فيطفئهم ويغفلهم وإذا قاموا إلى الصلاة فعلوها كرها ورؤية للناس ولا يذكرون الله إلا قليلا متقلبة في الوسط لا هنا ولا هناك ومن يضلل الله فلن تجد له سبيلا\n",
      "\n",
      " إن المنافقين يريدون خداع الله والله يخدعهم وإذا قاموا إلى الصلاة قاموا كسالى يراءون الناس ولا يذكرون الله إلا قليلا مترددين طوال الوقت ليس لهؤلاء وليس لهؤلاء ومن يضلل الله فلن تجد له سبيلا\n",
      "\n",
      " إن المنافقين يخادعون الله وهو يخدعهم وإذا قاموا إلى الصلاة قاموا وهم وهم يراءون الناس ويحمدونهم ولا يذكرون الله إلا نادرا يترددون بين هذا وذاك لا إلى هؤلاء ولا إلى هؤلاء ومن يضلل الله فلن تجد له سبيلا\n",
      "\n",
      "إن المنافقين ليخدعون الله وهو يخدعهم وإذا قاموا إلى الصلاة قاموا كسالى يراءون الناس ولا يذكرون الله إلا قليلا حلقة الموج بين هذا وذاك لا لهذا ولا لذلك ومن يضلل الله فلن تجد له سبيلا\n",
      "\n",
      " إن المنافقين يخادعون الله وهو يخدعهم وإذا قاموا إلى الصلاة قاموا كسالى يراءون الناس ولا يذكرون الله إلا قليلا متأرجحين بين هذا وذاك لا إلى هؤلاء ولا إلى هؤلاء ومن يضلل الله فلن تجد له سبيلا\n",
      "\n",
      " إن المنافقين يحاولون خداع الله وهو يخدعهم وإذا قاموا إلى الصلاة قاموا كسالى يراءون الناس ولا يذكرون الله إلا قليلا مترددين بينهما لا مع هؤلاء ولا مع هؤلاء ومن يضلل الله فلن تجد له سبيلا\n",
      "\n",
      "ألا إن المنافقين يخادعون الله وأولئك به يخدعون فإذا قاموا إلى الصلاة قاموا وهم كارهون لا يراهم إلا الرجال ولا يذكرون الله إلا قليلا وهي تتدلى بين هذا والآخر ولا تنتمي إلى هؤلاء ولا إلى هؤلاء بالكامل ومن يضلل الله فلن تجد له سبيلا\n",
      "\n",
      " إن المنافقين يخادعون الله وهو يخدعهم وإذا قاموا إلى الصلاة قاموا كسالى يراؤوا الناس ولا يذكرون الله إلا قليلا متأرجحين بين هذا وذاك لا إلى هؤلاء ولا إلى هؤلاء ومن يضلل الله فلن تجد له سبيلا\n",
      "\n",
      "لو إن المنافقين يخدعون الله وهو خادعهم وإذا قاموا إلى الصلاة قاموا بها كسالى رئاء الناس ولا يذكرون الله إلا قليلا يتمايل بين هذا لا إلى هؤلاء ولا إلى هؤلاء ومن يضلل الله فلن تجد له سبيلا\n",
      "\n",
      " إن المنافقين يخادعون الله وهو يخدعهم وإذا قاموا إلى الصلاة قاموا كسالى يراءون الناس ولا يذكرون الله إلا قليلا يترددون بين ذلك لا مع هؤلاء ولا مع هؤلاء ومن يضلل الله فلن تجد له سبيلا\n",
      "\n",
      " إن المنافقين يخادعون الله ويخادعهم الله وإذا قاموا إلى الصلاة قاموا كسالى يراءون الناس ولا يذكرون الله إلا قليلا يترددون بين هؤلاء ولا إلى هؤلاء ومن يضلل الله فلن تجد له سبيلا له\n",
      "\n",
      "إن المنافقين يخادعون الله وهو يخادعهم وإذا قاموا إلى الصلاة قاموا كسالى يتراءون للناس ولا يذكرون الله إلا قليلا يترددون بينهم لا للمؤمنين ولا للكافرين ومن يضلل الله فلن تجد له سبيلا\n",
      "\n",
      " إن المنافقين يحاولون خداع الله ولكنه في الحقيقة يخدعهم إنهم يقومون إلى الصلاة متكاسلين فقط ليظهروا أنهم يصلون ولكنهم في الحقيقة لا يذكرون الله إلا قليلا إنهم أناس مترددون لا ينتمون إلى أي من الطرفين ولن تجد سبيلا آخر لمن أضله الله\n",
      "\n",
      " إن المنافقين يخادعون الله فيجازيهم خداعهم وإذا قاموا إلى الصلاة قاموا وهم كسالى وما يفعلونه إلا رئاء الناس ولا يذكرون الله إلا قليلا متأرجحين بين ذلك لا إلى هؤلاء ولا إلى هؤلاء ومن يضلل الله فلن تجد له سبيلا\n",
      "\n",
      "يسعى المنافقون إلى خداع الله لكنه هو الذي يتفوق عليهم وإذا قاموا إلى الصلاة يفعلون ذلك كارهين ليراهم الناس ولا يذكرون الله إلا قليلا وهم يتأرجحون بين الاثنين ولا ينتمون إلى طرف ولا إلى طرف آخر ولكن من يسمح الله له بالضلال لن تجد له الطريق أبدا\n",
      "\n",
      " المنافقون يحسبون أنهم يبالغون في حق الله وهو يبالغ فيهم إذا قاموا إلى الصلاة قاموا لا يجتهدون يراهم الناس ولا يذكرون الله إلا قليلا متشتت الذهن ولو في وسطه لا لفئة ولا لفئة يضلها الله ولن تجد له السبيل\n",
      "\n"
     ]
    }
   ],
   "source": [
    "n = np.random.randint(0, 4795)\n",
    "\n",
    "for col in arabic_data.columns:\n",
    "    print(arabic_data.loc[n, col], end=\"\\n\\n\")"
   ]
  },
  {
   "cell_type": "code",
   "execution_count": 258,
   "metadata": {},
   "outputs": [
    {
     "name": "stdout",
     "output_type": "stream",
     "text": [
      "<class 'pandas.core.frame.DataFrame'>\n",
      "RangeIndex: 4795 entries, 0 to 4794\n",
      "Data columns (total 18 columns):\n",
      " #   Column         Non-Null Count  Dtype \n",
      "---  ------         --------------  ----- \n",
      " 0   arabic-imlaei  4795 non-null   object\n",
      " 1   الأحمدلي       4795 non-null   object\n",
      " 2    en-ahmedraza  4795 non-null   object\n",
      " 3    en-arberry    4795 non-null   object\n",
      " 4    أون الأسد     4795 non-null   object\n",
      " 5    en-daryabadi  4795 non-null   object\n",
      " 6    en-hilali     4795 non-null   object\n",
      " 7    عيتاني        4795 non-null   object\n",
      " 8    المودودي      4795 non-null   object\n",
      " 9    مباركبوري     4795 non-null   object\n",
      " 10   en-pickthall  4795 non-null   object\n",
      " 11   en-qarai      4795 non-null   object\n",
      " 12   en-قرب الله   4795 non-null   object\n",
      " 13   صحيح          4795 non-null   object\n",
      " 14   en-sarwar     4795 non-null   object\n",
      " 15   شاكر          4795 non-null   object\n",
      " 16   en-وحيدودي    4795 non-null   object\n",
      " 17   en-yusufali   4795 non-null   object\n",
      "dtypes: object(18)\n",
      "memory usage: 674.4+ KB\n"
     ]
    }
   ],
   "source": [
    "arabic_data.info()"
   ]
  },
  {
   "cell_type": "code",
   "execution_count": 259,
   "metadata": {},
   "outputs": [],
   "source": [
    "arabic_data.to_excel(\"./new_data.xlsx\", index=False)"
   ]
  }
 ],
 "metadata": {
  "kernelspec": {
   "display_name": "LLMs",
   "language": "python",
   "name": "python3"
  },
  "language_info": {
   "codemirror_mode": {
    "name": "ipython",
    "version": 3
   },
   "file_extension": ".py",
   "mimetype": "text/x-python",
   "name": "python",
   "nbconvert_exporter": "python",
   "pygments_lexer": "ipython3",
   "version": "3.11.9"
  }
 },
 "nbformat": 4,
 "nbformat_minor": 2
}
