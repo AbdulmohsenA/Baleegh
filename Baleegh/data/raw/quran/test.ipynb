{
 "cells": [
  {
   "cell_type": "code",
   "execution_count": null,
   "metadata": {},
   "outputs": [],
   "source": [
    "import pandas as pd\n",
    "from datasets import load_dataset\n",
    "import numpy as np\n",
    "import torch.nn.functional as F"
   ]
  },
  {
   "cell_type": "code",
   "execution_count": null,
   "metadata": {},
   "outputs": [],
   "source": [
    "\n",
    "dataset = load_dataset('ImruQays/Quran-Classical-Arabic-English-Parallel-texts')['train'].to_pandas()\n",
    "dataset.drop(columns=dataset.columns[0], inplace=True)"
   ]
  },
  {
   "cell_type": "code",
   "execution_count": null,
   "metadata": {},
   "outputs": [],
   "source": [
    "from transformers import AutoTokenizer, AutoModel\n",
    "import torch\n",
    "tokenizer = AutoTokenizer.from_pretrained(\"sentence-transformers/paraphrase-multilingual-MiniLM-L12-v2\")\n",
    "model = AutoModel.from_pretrained(\"sentence-transformers/paraphrase-multilingual-MiniLM-L12-v2\")"
   ]
  },
  {
   "cell_type": "code",
   "execution_count": null,
   "metadata": {},
   "outputs": [],
   "source": [
    "\n",
    "def get_embedding(sentence):\n",
    "\n",
    "    with torch.no_grad():\n",
    "        tokens = tokenizer(sentence, return_tensors=\"pt\")\n",
    "        outputs = model(**tokens)\n",
    "        sentence_embedding = outputs.last_hidden_state.mean(dim=1).squeeze()\n",
    "        return sentence_embedding"
   ]
  },
  {
   "cell_type": "code",
   "execution_count": null,
   "metadata": {},
   "outputs": [],
   "source": [
    "import numpy as np\n",
    "\n",
    "def get_similarity(embedding1, embedding2):\n",
    "    dot = np.dot(embedding1, embedding2)\n",
    "    \n",
    "    similarty = dot / (np.linalg.norm(embedding1) * np.linalg.norm(embedding2))\n",
    "    \n",
    "    return similarty"
   ]
  },
  {
   "cell_type": "code",
   "execution_count": null,
   "metadata": {},
   "outputs": [
    {
     "data": {
      "text/plain": [
       "0.17989026"
      ]
     },
     "metadata": {},
     "output_type": "display_data"
    }
   ],
   "source": [
    "get_similarity(get_embedding(\"Where is my balls?\"), get_embedding(\"أين محمد\"))"
   ]
  },
  {
   "cell_type": "code",
   "execution_count": null,
   "metadata": {},
   "outputs": [
    {
     "data": {
      "text/plain": [
       "array(['أَم يَقولونَ افتَراهُ قُل فَأتوا بِسورَةٍ مِثلِهِ وَادعوا مَنِ استَطَعتُم مِن دونِ اللَّهِ إِن كُنتُم صادِقينَ',\n",
       "       'Or do they say, “He has forged it”? Say, “Then produce a single chapter like it, and call upon whomever you can, apart from God, if you are truthful.”'],\n",
       "      dtype=object)"
      ]
     },
     "metadata": {},
     "output_type": "display_data"
    }
   ],
   "source": [
    "test_subject = dataset.iloc[1400, [0, 7]].values\n",
    "test_subject"
   ]
  },
  {
   "cell_type": "code",
   "execution_count": null,
   "metadata": {},
   "outputs": [
    {
     "name": "stdout",
     "output_type": "stream",
     "text": [
      "أم يقولون افتراه قل فأتوا بسورة مثله وادعوا من استطعتم من دون الله إن كنتم صادقين\n"
     ]
    }
   ],
   "source": [
    "import re\n",
    "import regex  # Need regex module for full Unicode support\n",
    "\n",
    "def remove_arabic_diacritics(text):\n",
    "    # Define a regex pattern to match Arabic diacritics (Tashkeel)\n",
    "    diacritics_pattern = regex.compile(r'[\\u064B\\u064C\\u064D\\u064E\\u064F\\u0650\\u0651\\u0652\\u0653\\u0654\\u0655\\u0656\\u0657\\u0658\\u0659\\u065A\\u065B\\u065C\\u065D\\u065E\\u065F\\u0670]')\n",
    "    \n",
    "    # Remove diacritics from the text using regex substitution\n",
    "    text_clean = diacritics_pattern.sub('', text)\n",
    "    \n",
    "    return text_clean\n",
    "\n",
    "# Example usage\n",
    "clean_arabic_text = remove_arabic_diacritics(test_subject[0])\n",
    "print(clean_arabic_text)"
   ]
  },
  {
   "cell_type": "code",
   "execution_count": null,
   "metadata": {},
   "outputs": [],
   "source": [
    "arabic_sentence, english_sentence = test_subject"
   ]
  },
  {
   "cell_type": "code",
   "execution_count": null,
   "metadata": {},
   "outputs": [],
   "source": [
    "eng_sentence_part = english_sentence.split(\".\")[1]"
   ]
  },
  {
   "cell_type": "code",
   "execution_count": null,
   "metadata": {},
   "outputs": [
    {
     "data": {
      "text/plain": [
       "' They advocate evil, and prohibit righteousness, and withhold their hands'"
      ]
     },
     "metadata": {},
     "output_type": "display_data"
    }
   ],
   "source": [
    "eng_sentence_part"
   ]
  },
  {
   "cell_type": "code",
   "execution_count": null,
   "metadata": {},
   "outputs": [],
   "source": [
    "eng_sentence_part\n",
    "en_part_emb = get_embedding(eng_sentence_part)"
   ]
  },
  {
   "cell_type": "code",
   "execution_count": null,
   "metadata": {},
   "outputs": [],
   "source": [
    "ar_sentence_part = ..."
   ]
  },
  {
   "cell_type": "code",
   "execution_count": null,
   "metadata": {},
   "outputs": [
    {
     "name": "stdout",
     "output_type": "stream",
     "text": [
      "\n",
      "\n",
      "7.07%\n",
      "\n",
      "يَأمُرونَ\n",
      "22.14%\n",
      "\n",
      "يَأمُرونَ بِالمُنكَرِ\n",
      "36.11%\n",
      "\n",
      "يَأمُرونَ بِالمُنكَرِ وَيَنهَونَ\n",
      "43.72%\n",
      "\n",
      "يَأمُرونَ بِالمُنكَرِ وَيَنهَونَ عَنِ\n",
      "48.06%\n",
      "\n",
      "يَأمُرونَ بِالمُنكَرِ وَيَنهَونَ عَنِ المَعروفِ\n",
      "44.85%\n",
      "\n",
      "يَأمُرونَ بِالمُنكَرِ وَيَنهَونَ عَنِ المَعروفِ وَيَقبِضونَ\n",
      "49.33%\n",
      "\n",
      "يَأمُرونَ بِالمُنكَرِ وَيَنهَونَ عَنِ المَعروفِ وَيَقبِضونَ أَيدِيَهُم\n",
      "53.00%\n",
      "\n",
      "يَأمُرونَ بِالمُنكَرِ وَيَنهَونَ عَنِ المَعروفِ وَيَقبِضونَ أَيدِيَهُم نَسُوا\n",
      "52.90%\n",
      "\n",
      "يَأمُرونَ بِالمُنكَرِ وَيَنهَونَ عَنِ المَعروفِ وَيَقبِضونَ أَيدِيَهُم نَسُوا اللَّهَ\n",
      "54.63%\n",
      "\n",
      "يَأمُرونَ بِالمُنكَرِ وَيَنهَونَ عَنِ المَعروفِ وَيَقبِضونَ أَيدِيَهُم نَسُوا اللَّهَ فَنَسِيَهُم\n",
      "52.76%\n",
      "\n",
      "يَأمُرونَ بِالمُنكَرِ وَيَنهَونَ عَنِ المَعروفِ وَيَقبِضونَ أَيدِيَهُم نَسُوا اللَّهَ فَنَسِيَهُم إِنَّ\n",
      "51.91%\n",
      "\n",
      "يَأمُرونَ بِالمُنكَرِ وَيَنهَونَ عَنِ المَعروفِ وَيَقبِضونَ أَيدِيَهُم نَسُوا اللَّهَ فَنَسِيَهُم إِنَّ المُنافِقينَ\n",
      "55.39%\n",
      "\n",
      "يَأمُرونَ بِالمُنكَرِ وَيَنهَونَ عَنِ المَعروفِ وَيَقبِضونَ أَيدِيَهُم نَسُوا اللَّهَ فَنَسِيَهُم إِنَّ المُنافِقينَ هُمُ\n",
      "50.07%\n",
      "\n",
      "يَأمُرونَ بِالمُنكَرِ وَيَنهَونَ عَنِ المَعروفِ وَيَقبِضونَ أَيدِيَهُم نَسُوا اللَّهَ فَنَسِيَهُم إِنَّ المُنافِقينَ هُمُ الفاسِقونَ\n",
      "49.43%\n"
     ]
    }
   ],
   "source": [
    "scores = []\n",
    "\n",
    "for word_index in range(5, len(arabic_sentence.split(\" \")) + 1):\n",
    "    ar_sentence_part = \" \".join(arabic_sentence.split(\" \")[5:word_index])\n",
    "    ar_part_emb = get_embedding(ar_sentence_part)\n",
    "    similarity_to_eng_part = get_similarity(en_part_emb, ar_part_emb)\n",
    "    \n",
    "    scores.append(similarity_to_eng_part)\n",
    "    print()\n",
    "    print(ar_sentence_part)\n",
    "    print(f\"{similarity_to_eng_part:.2%}\")"
   ]
  },
  {
   "cell_type": "code",
   "execution_count": null,
   "metadata": {},
   "outputs": [
    {
     "data": {
      "text/plain": [
       "17"
      ]
     },
     "metadata": {},
     "output_type": "display_data"
    }
   ],
   "source": []
  },
  {
   "cell_type": "code",
   "execution_count": null,
   "metadata": {},
   "outputs": [
    {
     "data": {
      "text/plain": [
       "['يَأمُرونَ',\n",
       " 'بِالمُنكَرِ',\n",
       " 'وَيَنهَونَ',\n",
       " 'عَنِ',\n",
       " 'المَعروفِ',\n",
       " 'وَيَقبِضونَ',\n",
       " 'أَيدِيَهُم',\n",
       " 'نَسُوا',\n",
       " 'اللَّهَ',\n",
       " 'فَنَسِيَهُم',\n",
       " 'إِنَّ',\n",
       " 'المُنافِقينَ']"
      ]
     },
     "metadata": {},
     "output_type": "display_data"
    }
   ],
   "source": [
    "arabic_sentence.split()[5:np.argmax(scores) + 5]"
   ]
  },
  {
   "cell_type": "code",
   "execution_count": null,
   "metadata": {},
   "outputs": [],
   "source": []
  }
 ],
 "metadata": {
  "language_info": {
   "name": "python"
  }
 },
 "nbformat": 4,
 "nbformat_minor": 2
}
