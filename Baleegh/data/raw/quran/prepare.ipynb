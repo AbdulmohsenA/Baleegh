{
 "cells": [
  {
   "cell_type": "code",
   "execution_count": 1,
   "metadata": {},
   "outputs": [],
   "source": [
    "import numpy as np\n",
    "import pandas as pd\n",
    "import re\n",
    "import torch\n",
    "import os\n",
    "from torch.utils.data import DataLoader, random_split, Dataset\n",
    "import requests\n",
    "from datasets import load_dataset\n",
    "from datasets import Dataset"
   ]
  },
  {
   "cell_type": "code",
   "execution_count": 16,
   "metadata": {},
   "outputs": [],
   "source": [
    "df = pd.read_csv(\"hf://datasets/ImruQays/Quran-Classical-Arabic-English-Parallel-texts/Quran-translations.csv\")"
   ]
  },
  {
   "cell_type": "code",
   "execution_count": 43,
   "metadata": {},
   "outputs": [],
   "source": [
    "data = df.copy()\n",
    "\n",
    "data = data.drop(columns=[data.columns[0]])\n",
    "data = data[~data['arabic-imlaei'].str.contains(\"بِسمِ اللَّهِ الرَّحمٰنِ الرَّحيمِ\")].reset_index(drop=True)"
   ]
  },
  {
   "cell_type": "code",
   "execution_count": 99,
   "metadata": {},
   "outputs": [
    {
     "name": "stdout",
     "output_type": "stream",
     "text": [
      "0- إِنَّهُم عَنِ السَّمعِ لَمَعزولونَ\n",
      "7- They are barred from hearing.\n"
     ]
    }
   ],
   "source": [
    "n = 3118\n",
    "for i, col in enumerate(data.columns):\n",
    "    meh = [1, 2, 3, 4, 5, 6, 8, 9, 10, 11, 12, 13, 14, 15, 16, 17]\n",
    "    if i not in meh:\n",
    "        print(f\"{i}- {data.loc[n, col]}\")"
   ]
  },
  {
   "cell_type": "code",
   "execution_count": 100,
   "metadata": {},
   "outputs": [],
   "source": [
    "# Old English translations, keep them if the resources are good enough\n",
    "data.drop(columns=data.columns[meh], inplace=True)"
   ]
  },
  {
   "cell_type": "code",
   "execution_count": 107,
   "metadata": {},
   "outputs": [],
   "source": [
    "df = pd.DataFrame()\n",
    "df['en'] = data.iloc[:, 1]\n",
    "df['ar'] = data.iloc[:, 0]"
   ]
  },
  {
   "cell_type": "code",
   "execution_count": 7,
   "metadata": {},
   "outputs": [],
   "source": [
    "# # Connect Contextual verses\n",
    "# connection_signs = ('-', '—', ':', ';', ',')\n",
    "\n",
    "# temp_df = {\n",
    "#     \"source\": [],\n",
    "#     \"target\": []\n",
    "# }\n",
    "\n",
    "# for column in data.columns[1:]:\n",
    "#     index = 1\n",
    "#     src, tgt = data.loc[0, column], data.loc[0, \"arabic-imlaei\"]\n",
    "    \n",
    "#     while index < len(data):\n",
    "\n",
    "#         if src.endswith(connection_signs):\n",
    "#             src += f\" {data.loc[index, column]}\" \n",
    "#             tgt += f\" {data.loc[index, 'arabic-imlaei']}\"\n",
    "            \n",
    "#         else:\n",
    "#             temp_df['source'].append(src)\n",
    "#             temp_df['target'].append(tgt)\n",
    "            \n",
    "#             src, tgt = data.loc[index, column], data.loc[index, \"arabic-imlaei\"]\n",
    "            \n",
    "#         index += 1"
   ]
  },
  {
   "cell_type": "code",
   "execution_count": 105,
   "metadata": {},
   "outputs": [],
   "source": [
    "def prepare_text(text):\n",
    "    # Convert text to lowercase\n",
    "    text = text.lower()\n",
    "\n",
    "    text = re.sub(r'[\\[\\(<«](\\d+)[\\]\\)>»]', '', text)\n",
    "    # Remove text between parentheses/brakets (Explanatory text which is not originally written in arabic)\n",
    "    text = re.sub(r'\\([^)]*\\)|\\[[^]]*\\]', '', text)\n",
    "    \n",
    "    # Remove dashes and commas\n",
    "    # text = re.sub(r'[-;”“’‘\\\"\\'\\[\\]\\(\\)﴾﴿<>«»]+', '', text)\n",
    "    \n",
    "    # arabic_diacritics = re.compile(\"\"\"\n",
    "    #     ٰ    | # الألف الصغيرة\n",
    "    #     ّ    | # الشدة\n",
    "    #     َ    | # الفتحة\n",
    "    #     ً    | # تنوين الفتح\n",
    "    #     ُ    | # الضمة\n",
    "    #     ٌ    | # تنوين الضم\n",
    "    #     ِ    | # الكسرة\n",
    "    #     ٍ    | # تنوين الكسر\n",
    "    #     ْ    | # السكون\n",
    "    #     ۚ    | #\n",
    "    #     ـ    # \n",
    "    # \"\"\", re.VERBOSE)\n",
    "    \n",
    "    # text = re.sub(arabic_diacritics, '', text)\n",
    "    \n",
    "    # text = re.sub(r'\\.\\.\\.', '', text)\n",
    "    # text = re.sub(r'\\*\\*\\*', '', text)\n",
    "    \n",
    "    # Remove البسملة as it is not translated.\n",
    "    # text = re.sub(r'^بسم الله الرحمن الرحيم ', '', text)\n",
    "        \n",
    "    # text = re.sub(r\"صلى الله عليه وسلم\", '', text)\n",
    "    # text = re.sub(r\"عليه الصلاة والسلام\", '', text)\n",
    "    \n",
    "    # Remove extra spaces\n",
    "    text = re.sub(r'\\s+', ' ', text)\n",
    "    text = text.strip()\n",
    "\n",
    "    return text"
   ]
  },
  {
   "cell_type": "code",
   "execution_count": 109,
   "metadata": {},
   "outputs": [],
   "source": [
    "df = df.map(prepare_text)"
   ]
  },
  {
   "cell_type": "code",
   "execution_count": 124,
   "metadata": {},
   "outputs": [
    {
     "data": {
      "text/plain": [
       "array([['they will be presented before your lord in a row. “you have come to us as we created you the first time. although you claimed we would not set a meeting for you.”',\n",
       "        'وَعُرِضوا عَلىٰ رَبِّكَ صَفًّا لَقَد جِئتُمونا كَما خَلَقناكُم أَوَّلَ مَرَّةٍ بَل زَعَمتُم أَلَّن نَجعَلَ لَكُم مَوعِدًا']],\n",
       "      dtype=object)"
      ]
     },
     "execution_count": 124,
     "metadata": {},
     "output_type": "execute_result"
    }
   ],
   "source": [
    "df.sample().values"
   ]
  },
  {
   "cell_type": "code",
   "execution_count": 125,
   "metadata": {},
   "outputs": [],
   "source": [
    "df.to_csv(\"Finished.csv\")"
   ]
  },
  {
   "cell_type": "code",
   "execution_count": null,
   "metadata": {},
   "outputs": [],
   "source": []
  }
 ],
 "metadata": {
  "kernelspec": {
   "display_name": "Faseeh",
   "language": "python",
   "name": "python3"
  },
  "language_info": {
   "codemirror_mode": {
    "name": "ipython",
    "version": 3
   },
   "file_extension": ".py",
   "mimetype": "text/x-python",
   "name": "python",
   "nbconvert_exporter": "python",
   "pygments_lexer": "ipython3",
   "version": "3.11.9"
  }
 },
 "nbformat": 4,
 "nbformat_minor": 2
}
