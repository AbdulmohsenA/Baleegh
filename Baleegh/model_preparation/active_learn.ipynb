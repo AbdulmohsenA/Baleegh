{
 "cells": [
  {
   "cell_type": "code",
   "execution_count": 207,
   "metadata": {},
   "outputs": [],
   "source": [
    "from transformers import AutoTokenizer, AutoModelForSeq2SeqLM\n",
    "from datasets import load_dataset\n",
    "from torch.nn.functional import softmax\n",
    "from torch.utils.data import DataLoader\n",
    "import pandas as pd"
   ]
  },
  {
   "cell_type": "code",
   "execution_count": 3,
   "metadata": {},
   "outputs": [],
   "source": [
    "model_name = \"AbdulmohsenA/Faseeh\"\n",
    "tokenizer = AutoTokenizer.from_pretrained(model_name)\n",
    "model = AutoModelForSeq2SeqLM.from_pretrained(model_name)\n",
    "model.eval()\n",
    "\n",
    "# Load your full translation dataset\n",
    "dataset = load_dataset(\"Abdulmohsena/Classic-Arabic-English-Language-Pairs\")['train']"
   ]
  },
  {
   "cell_type": "code",
   "execution_count": 231,
   "metadata": {},
   "outputs": [],
   "source": []
  },
  {
   "cell_type": "code",
   "execution_count": 232,
   "metadata": {},
   "outputs": [],
   "source": [
    "def calculate_entropy(outputs):\n",
    "    \n",
    "    logits = torch.stack(outputs['scores']).permute(1, 0, 2)\n",
    "    probs = softmax(logits, dim=-1)\n",
    "    \n",
    "    padding_mask = (outputs['sequences'][:, 1:] != 1).float() # To cancel padding tokens\n",
    "    \n",
    "    token_entropy = (-torch.sum(probs * torch.log(probs + 1e-8), dim=-1)) * padding_mask\n",
    "    \n",
    "    sentence_entropy = token_entropy.sum(dim=-1) / padding_mask.sum(dim=-1)  # Get the mean from valid tokens\n",
    "    \n",
    "    return sentence_entropy"
   ]
  },
  {
   "cell_type": "code",
   "execution_count": 239,
   "metadata": {},
   "outputs": [
    {
     "name": "stdout",
     "output_type": "stream",
     "text": [
      "{'source': [' this gradualism is what caught the attention of the brethren of purity. after they decided that souls vary in love between a lustful soul, an animal soul, and a royal soul, and that in the nature of souls is the love of eternal survival, they spoke:', 'fie upon you, and upon that which you worship besides allah! have you then no sense', 'this is better for you than that begging should come as a spot on your face on the day of judgment. begging is right only for three people: for one who is in grinding poverty, or for one who is in severe debt, or for a painful compensation for killing.', 'it is allah, except whom there is no god the knowing of all – the hidden and the evident he only is the most gracious, the most merciful.'], 'target': ['وهذا التدرج هو الذي لفت أنظار إخوان الصفا، فبعد أن قرروا أن النفوس تتفاوت في المحبة بين نفس شهوانية وأخرى حيوانية وثالثة ملكية وأن في جبلة النفوس محبة البقاء السرمدي تحدثوا', 'أف لكم ولما تعبدون من دون الله أفلا تعقلون', 'هذا خير لك من أن تجيء المسألة نكتة في وجهك يوم القيامة إن المسألة لا تصلح إلا لثلاثة لذي فقر مدقع أو لذي غرم مفظع أو لذي دم موجع', 'هو الله الذي لا إله إلا هو عالم الغيب والشهادة هو الرحمن الرحيم']}\n"
     ]
    },
    {
     "name": "stderr",
     "output_type": "stream",
     "text": [
      "C:\\Users\\user\\AppData\\Local\\Temp\\ipykernel_11044\\3115130936.py:20: FutureWarning: The behavior of DataFrame concatenation with empty or all-NA entries is deprecated. In a future version, this will no longer exclude empty or all-NA columns when determining the result dtypes. To retain the old behavior, exclude the relevant entries before the concat operation.\n",
      "  dataset_uncertainties = pd.concat([dataset_uncertainties, new_data], ignore_index=True)\n"
     ]
    },
    {
     "name": "stdout",
     "output_type": "stream",
     "text": [
      "{'source': ['did you see him who gives the lie to the reward and punishment of the hereafter?', 'i saw the prophet being served with soup and containing gourd and cured meat, and i saw him pickingand eating the pieces of gourd.', 'this is nothing but the word of mortal man!', 'there is a chapter in the quran of thirty verses which will intercede for its companion until he is forgiven. it is: blessed is he in whose hand is the kingdom. '], 'target': ['أرأيت الذي يكذب بالدين', 'رأيت النبي أتي بمرقة فيها دباء وقديد، فرأيته يتتبع الدباء يأكلها.', 'إن هذا إلا قول البشر', 'سورة من القرآن ثلاثون آية تشفع لصاحبها حتى يغفر له تبارك الذي بيده الملك']}\n"
     ]
    }
   ],
   "source": [
    "dataset_uncertainties = pd.DataFrame(columns=['source', 'target', 'pred', 'entropy'])\n",
    "\n",
    "for batch in dataloader:\n",
    "    inputs = tokenizer(batch['source'], return_tensors='pt', padding=True).to(model.device)\n",
    "    with torch.no_grad():\n",
    "        outputs = model.generate(**inputs, return_dict_in_generate=True, output_scores=True)\n",
    "    \n",
    "    entropy = calculate_entropy(outputs)\n",
    "\n",
    "    pred = tokenizer.batch_decode(outputs['sequences'], skip_special_tokens=True)\n",
    "\n",
    "    new_data = pd.DataFrame({\n",
    "        'source': batch['source'],\n",
    "        'target': batch['target'],\n",
    "        'pred': pred,\n",
    "        'entropy': entropy\n",
    "    })\n",
    "    \n",
    "    dataset_uncertainties = pd.concat([dataset_uncertainties, new_data], ignore_index=True)"
   ]
  },
  {
   "cell_type": "code",
   "execution_count": 240,
   "metadata": {},
   "outputs": [
    {
     "data": {
      "text/html": [
       "<div>\n",
       "<style scoped>\n",
       "    .dataframe tbody tr th:only-of-type {\n",
       "        vertical-align: middle;\n",
       "    }\n",
       "\n",
       "    .dataframe tbody tr th {\n",
       "        vertical-align: top;\n",
       "    }\n",
       "\n",
       "    .dataframe thead th {\n",
       "        text-align: right;\n",
       "    }\n",
       "</style>\n",
       "<table border=\"1\" class=\"dataframe\">\n",
       "  <thead>\n",
       "    <tr style=\"text-align: right;\">\n",
       "      <th></th>\n",
       "      <th>source</th>\n",
       "      <th>target</th>\n",
       "      <th>pred</th>\n",
       "      <th>entropy</th>\n",
       "    </tr>\n",
       "  </thead>\n",
       "  <tbody>\n",
       "    <tr>\n",
       "      <th>0</th>\n",
       "      <td>this gradualism is what caught the attention ...</td>\n",
       "      <td>وهذا التدرج هو الذي لفت أنظار إخوان الصفا، فبع...</td>\n",
       "      <td>وهذه التدرجية هي التي استسرقت همة إخوان الصفا....</td>\n",
       "      <td>0.699131</td>\n",
       "    </tr>\n",
       "    <tr>\n",
       "      <th>1</th>\n",
       "      <td>fie upon you, and upon that which you worship ...</td>\n",
       "      <td>أف لكم ولما تعبدون من دون الله أفلا تعقلون</td>\n",
       "      <td>أف لكم ولما تعبدون من دون الله أفلا تعقلون</td>\n",
       "      <td>0.000812</td>\n",
       "    </tr>\n",
       "    <tr>\n",
       "      <th>2</th>\n",
       "      <td>this is better for you than that begging shoul...</td>\n",
       "      <td>هذا خير لك من أن تجيء المسألة نكتة في وجهك يوم...</td>\n",
       "      <td>هذا خير لك من أن يأتيك المسألة رقعة في وجهك يو...</td>\n",
       "      <td>1.275959</td>\n",
       "    </tr>\n",
       "    <tr>\n",
       "      <th>3</th>\n",
       "      <td>it is allah, except whom there is no god the k...</td>\n",
       "      <td>هو الله الذي لا إله إلا هو عالم الغيب والشهادة...</td>\n",
       "      <td>هو الله الذي لا إله إلا هو عالم الغيب والشهادة...</td>\n",
       "      <td>0.002247</td>\n",
       "    </tr>\n",
       "    <tr>\n",
       "      <th>4</th>\n",
       "      <td>did you see him who gives the lie to the rewar...</td>\n",
       "      <td>أرأيت الذي يكذب بالدين</td>\n",
       "      <td>أرأيت الذي يكذب بالدين</td>\n",
       "      <td>0.109136</td>\n",
       "    </tr>\n",
       "    <tr>\n",
       "      <th>5</th>\n",
       "      <td>i saw the prophet being served with soup and c...</td>\n",
       "      <td>رأيت النبي أتي بمرقة فيها دباء وقديد، فرأيته ي...</td>\n",
       "      <td>رأيت النبي يقدم له حساء فيه الدباء واللحم الصا...</td>\n",
       "      <td>1.685970</td>\n",
       "    </tr>\n",
       "    <tr>\n",
       "      <th>6</th>\n",
       "      <td>this is nothing but the word of mortal man!</td>\n",
       "      <td>إن هذا إلا قول البشر</td>\n",
       "      <td>إن هذا إلا قول البشر</td>\n",
       "      <td>0.072779</td>\n",
       "    </tr>\n",
       "    <tr>\n",
       "      <th>7</th>\n",
       "      <td>there is a chapter in the quran of thirty vers...</td>\n",
       "      <td>سورة من القرآن ثلاثون آية تشفع لصاحبها حتى يغف...</td>\n",
       "      <td>سورة من القرآن ثلاثون آية تشفع لصاحبها حتى يغف...</td>\n",
       "      <td>0.678057</td>\n",
       "    </tr>\n",
       "  </tbody>\n",
       "</table>\n",
       "</div>"
      ],
      "text/plain": [
       "                                              source  \\\n",
       "0   this gradualism is what caught the attention ...   \n",
       "1  fie upon you, and upon that which you worship ...   \n",
       "2  this is better for you than that begging shoul...   \n",
       "3  it is allah, except whom there is no god the k...   \n",
       "4  did you see him who gives the lie to the rewar...   \n",
       "5  i saw the prophet being served with soup and c...   \n",
       "6        this is nothing but the word of mortal man!   \n",
       "7  there is a chapter in the quran of thirty vers...   \n",
       "\n",
       "                                              target  \\\n",
       "0  وهذا التدرج هو الذي لفت أنظار إخوان الصفا، فبع...   \n",
       "1         أف لكم ولما تعبدون من دون الله أفلا تعقلون   \n",
       "2  هذا خير لك من أن تجيء المسألة نكتة في وجهك يوم...   \n",
       "3  هو الله الذي لا إله إلا هو عالم الغيب والشهادة...   \n",
       "4                             أرأيت الذي يكذب بالدين   \n",
       "5  رأيت النبي أتي بمرقة فيها دباء وقديد، فرأيته ي...   \n",
       "6                               إن هذا إلا قول البشر   \n",
       "7  سورة من القرآن ثلاثون آية تشفع لصاحبها حتى يغف...   \n",
       "\n",
       "                                                pred   entropy  \n",
       "0  وهذه التدرجية هي التي استسرقت همة إخوان الصفا....  0.699131  \n",
       "1         أف لكم ولما تعبدون من دون الله أفلا تعقلون  0.000812  \n",
       "2  هذا خير لك من أن يأتيك المسألة رقعة في وجهك يو...  1.275959  \n",
       "3  هو الله الذي لا إله إلا هو عالم الغيب والشهادة...  0.002247  \n",
       "4                             أرأيت الذي يكذب بالدين  0.109136  \n",
       "5  رأيت النبي يقدم له حساء فيه الدباء واللحم الصا...  1.685970  \n",
       "6                               إن هذا إلا قول البشر  0.072779  \n",
       "7  سورة من القرآن ثلاثون آية تشفع لصاحبها حتى يغف...  0.678057  "
      ]
     },
     "execution_count": 240,
     "metadata": {},
     "output_type": "execute_result"
    }
   ],
   "source": [
    "dataset_uncertainties"
   ]
  },
  {
   "cell_type": "code",
   "execution_count": 71,
   "metadata": {},
   "outputs": [],
   "source": [
    "import pandas as pd\n",
    "\n",
    "df = pd.read_csv(\"./uncertains.csv\", index_col='Unnamed: 0')"
   ]
  },
  {
   "cell_type": "code",
   "execution_count": 72,
   "metadata": {},
   "outputs": [
    {
     "data": {
      "text/plain": [
       "array([['and say thou: all praise unto allah! anon he shall shew you his signs, so that ye will recognize them. and thy lord is not negligent of that which ye work.',\n",
       "        'وقل الحمد لله سيريكم آياته فتعرفونها وما ربك بغافل عما تعملون',\n",
       "        'وقل الحمد لله سيريكم آياته فتعرفونها وما ربك بغافل عما تعملون',\n",
       "        0.0014377779]], dtype=object)"
      ]
     },
     "execution_count": 72,
     "metadata": {},
     "output_type": "execute_result"
    }
   ],
   "source": [
    "df.sample(1).values"
   ]
  },
  {
   "cell_type": "code",
   "execution_count": 73,
   "metadata": {},
   "outputs": [],
   "source": [
    "threshold = 30000\n",
    "\n",
    "df = df.sort_values(by=\"entropy\", ascending=False).iloc[:threshold]\n",
    "df = df[~df['source'].str.contains(r'reported', case=False, na=False)]\n",
    "df.dropna(inplace=True)"
   ]
  },
  {
   "cell_type": "code",
   "execution_count": 74,
   "metadata": {},
   "outputs": [],
   "source": [
    "df.reset_index(drop=True, inplace=True)"
   ]
  },
  {
   "cell_type": "code",
   "execution_count": 75,
   "metadata": {},
   "outputs": [
    {
     "data": {
      "text/html": [
       "<div>\n",
       "<style scoped>\n",
       "    .dataframe tbody tr th:only-of-type {\n",
       "        vertical-align: middle;\n",
       "    }\n",
       "\n",
       "    .dataframe tbody tr th {\n",
       "        vertical-align: top;\n",
       "    }\n",
       "\n",
       "    .dataframe thead th {\n",
       "        text-align: right;\n",
       "    }\n",
       "</style>\n",
       "<table border=\"1\" class=\"dataframe\">\n",
       "  <thead>\n",
       "    <tr style=\"text-align: right;\">\n",
       "      <th></th>\n",
       "      <th>source</th>\n",
       "      <th>target</th>\n",
       "      <th>pred</th>\n",
       "      <th>entropy</th>\n",
       "    </tr>\n",
       "  </thead>\n",
       "  <tbody>\n",
       "    <tr>\n",
       "      <th>0</th>\n",
       "      <td>two more versions of the tradition narrated by...</td>\n",
       "      <td>عن النبي بمعنى حديث أبي حازم عن بعجة وقال في ش...</td>\n",
       "      <td>قال رسول الله قال رسول الله قال رسول الله قال ...</td>\n",
       "      <td>3.614428</td>\n",
       "    </tr>\n",
       "    <tr>\n",
       "      <th>1</th>\n",
       "      <td>the messenger of allah rinsed his mouth and sn...</td>\n",
       "      <td>أن رسول الله مضمض واستنشق من غرفة واحدة</td>\n",
       "      <td>أن رسول الله مر على فيه من ماء واحد فتناهاه</td>\n",
       "      <td>3.329385</td>\n",
       "    </tr>\n",
       "    <tr>\n",
       "      <th>2</th>\n",
       "      <td>she unveiled the hyacinths of the ugly ones l...</td>\n",
       "      <td>أماطت لثاما عن أقاحي الدمائث بمثل أساريع الحقو...</td>\n",
       "      <td>كشفت عن حياصن البقيان كعثا السريع الشوكا بالوديان</td>\n",
       "      <td>3.208522</td>\n",
       "    </tr>\n",
       "    <tr>\n",
       "      <th>3</th>\n",
       "      <td>none amongst the created beings who had been l...</td>\n",
       "      <td>عن النبي أنه قال ذلك قبل موته بشهر أو نحو ذلك ...</td>\n",
       "      <td>قال لم يكن في ذلك العالم أحد قال عبد الرحمن قا...</td>\n",
       "      <td>3.194528</td>\n",
       "    </tr>\n",
       "    <tr>\n",
       "      <th>4</th>\n",
       "      <td>to hold the hands by the hands in prayer belo...</td>\n",
       "      <td>قال كان رسول الله يصلي بنا فيقرأ في الظهر والع...</td>\n",
       "      <td>أن يمنع من الصلاة أن يمنع من السرة</td>\n",
       "      <td>3.121780</td>\n",
       "    </tr>\n",
       "    <tr>\n",
       "      <th>...</th>\n",
       "      <td>...</td>\n",
       "      <td>...</td>\n",
       "      <td>...</td>\n",
       "      <td>...</td>\n",
       "    </tr>\n",
       "    <tr>\n",
       "      <th>29321</th>\n",
       "      <td>i attended the council of abu bakr bin duraid...</td>\n",
       "      <td>حضرت ببغداد مجلس أبي بكر بن دريد ، وأبو نصر هذ...</td>\n",
       "      <td>حضرت مجلس أبي بكر بن دريد ببغداد، وأبو نصر يقر...</td>\n",
       "      <td>0.541948</td>\n",
       "    </tr>\n",
       "    <tr>\n",
       "      <th>29322</th>\n",
       "      <td>professor raif khoury wrote a study about it ...</td>\n",
       "      <td>وكتب عنها الأستاذ رئيف خوري دراسة بعنوان حول ك...</td>\n",
       "      <td>وقد كتب الأستاذ رئيف خوري دراسة في ذلك بعنوان ...</td>\n",
       "      <td>0.541921</td>\n",
       "    </tr>\n",
       "    <tr>\n",
       "      <th>29323</th>\n",
       "      <td>the boat belonged to some destitute people who...</td>\n",
       "      <td>أما السفينة فكانت لمساكين يعملون في البحر فأرد...</td>\n",
       "      <td>أما السفينة فكانت لمساكين يعملون في البحر وكان...</td>\n",
       "      <td>0.541903</td>\n",
       "    </tr>\n",
       "    <tr>\n",
       "      <th>29324</th>\n",
       "      <td>91 39 alawite is proud of himself</td>\n",
       "      <td>٩١ ٣٩ علوي يفتخر بنفسه</td>\n",
       "      <td>٩١ ٣٩ العلوي يفتخر بنفسه</td>\n",
       "      <td>0.541819</td>\n",
       "    </tr>\n",
       "    <tr>\n",
       "      <th>29325</th>\n",
       "      <td>as much as you are able.</td>\n",
       "      <td>فيما استطعتم</td>\n",
       "      <td>ما استطعتم</td>\n",
       "      <td>0.541789</td>\n",
       "    </tr>\n",
       "  </tbody>\n",
       "</table>\n",
       "<p>29326 rows × 4 columns</p>\n",
       "</div>"
      ],
      "text/plain": [
       "                                                  source  \\\n",
       "0      two more versions of the tradition narrated by...   \n",
       "1      the messenger of allah rinsed his mouth and sn...   \n",
       "2       she unveiled the hyacinths of the ugly ones l...   \n",
       "3      none amongst the created beings who had been l...   \n",
       "4       to hold the hands by the hands in prayer belo...   \n",
       "...                                                  ...   \n",
       "29321   i attended the council of abu bakr bin duraid...   \n",
       "29322   professor raif khoury wrote a study about it ...   \n",
       "29323  the boat belonged to some destitute people who...   \n",
       "29324                  91 39 alawite is proud of himself   \n",
       "29325                           as much as you are able.   \n",
       "\n",
       "                                                  target  \\\n",
       "0      عن النبي بمعنى حديث أبي حازم عن بعجة وقال في ش...   \n",
       "1                أن رسول الله مضمض واستنشق من غرفة واحدة   \n",
       "2      أماطت لثاما عن أقاحي الدمائث بمثل أساريع الحقو...   \n",
       "3      عن النبي أنه قال ذلك قبل موته بشهر أو نحو ذلك ...   \n",
       "4      قال كان رسول الله يصلي بنا فيقرأ في الظهر والع...   \n",
       "...                                                  ...   \n",
       "29321  حضرت ببغداد مجلس أبي بكر بن دريد ، وأبو نصر هذ...   \n",
       "29322  وكتب عنها الأستاذ رئيف خوري دراسة بعنوان حول ك...   \n",
       "29323  أما السفينة فكانت لمساكين يعملون في البحر فأرد...   \n",
       "29324                             ٩١ ٣٩ علوي يفتخر بنفسه   \n",
       "29325                                       فيما استطعتم   \n",
       "\n",
       "                                                    pred   entropy  \n",
       "0      قال رسول الله قال رسول الله قال رسول الله قال ...  3.614428  \n",
       "1            أن رسول الله مر على فيه من ماء واحد فتناهاه  3.329385  \n",
       "2      كشفت عن حياصن البقيان كعثا السريع الشوكا بالوديان  3.208522  \n",
       "3      قال لم يكن في ذلك العالم أحد قال عبد الرحمن قا...  3.194528  \n",
       "4                     أن يمنع من الصلاة أن يمنع من السرة  3.121780  \n",
       "...                                                  ...       ...  \n",
       "29321  حضرت مجلس أبي بكر بن دريد ببغداد، وأبو نصر يقر...  0.541948  \n",
       "29322  وقد كتب الأستاذ رئيف خوري دراسة في ذلك بعنوان ...  0.541921  \n",
       "29323  أما السفينة فكانت لمساكين يعملون في البحر وكان...  0.541903  \n",
       "29324                           ٩١ ٣٩ العلوي يفتخر بنفسه  0.541819  \n",
       "29325                                         ما استطعتم  0.541789  \n",
       "\n",
       "[29326 rows x 4 columns]"
      ]
     },
     "execution_count": 75,
     "metadata": {},
     "output_type": "execute_result"
    }
   ],
   "source": [
    "df"
   ]
  },
  {
   "cell_type": "code",
   "execution_count": 76,
   "metadata": {},
   "outputs": [],
   "source": [
    "from datasets import Dataset\n",
    "\n",
    "df = df.drop(columns=['pred', 'entropy'])"
   ]
  },
  {
   "cell_type": "code",
   "execution_count": 77,
   "metadata": {},
   "outputs": [
    {
     "data": {
      "text/html": [
       "<div>\n",
       "<style scoped>\n",
       "    .dataframe tbody tr th:only-of-type {\n",
       "        vertical-align: middle;\n",
       "    }\n",
       "\n",
       "    .dataframe tbody tr th {\n",
       "        vertical-align: top;\n",
       "    }\n",
       "\n",
       "    .dataframe thead th {\n",
       "        text-align: right;\n",
       "    }\n",
       "</style>\n",
       "<table border=\"1\" class=\"dataframe\">\n",
       "  <thead>\n",
       "    <tr style=\"text-align: right;\">\n",
       "      <th></th>\n",
       "      <th>source</th>\n",
       "      <th>target</th>\n",
       "    </tr>\n",
       "  </thead>\n",
       "  <tbody>\n",
       "    <tr>\n",
       "      <th>0</th>\n",
       "      <td>two more versions of the tradition narrated by...</td>\n",
       "      <td>عن النبي بمعنى حديث أبي حازم عن بعجة وقال في ش...</td>\n",
       "    </tr>\n",
       "    <tr>\n",
       "      <th>1</th>\n",
       "      <td>the messenger of allah rinsed his mouth and sn...</td>\n",
       "      <td>أن رسول الله مضمض واستنشق من غرفة واحدة</td>\n",
       "    </tr>\n",
       "    <tr>\n",
       "      <th>2</th>\n",
       "      <td>she unveiled the hyacinths of the ugly ones l...</td>\n",
       "      <td>أماطت لثاما عن أقاحي الدمائث بمثل أساريع الحقو...</td>\n",
       "    </tr>\n",
       "    <tr>\n",
       "      <th>3</th>\n",
       "      <td>none amongst the created beings who had been l...</td>\n",
       "      <td>عن النبي أنه قال ذلك قبل موته بشهر أو نحو ذلك ...</td>\n",
       "    </tr>\n",
       "    <tr>\n",
       "      <th>4</th>\n",
       "      <td>to hold the hands by the hands in prayer belo...</td>\n",
       "      <td>قال كان رسول الله يصلي بنا فيقرأ في الظهر والع...</td>\n",
       "    </tr>\n",
       "    <tr>\n",
       "      <th>...</th>\n",
       "      <td>...</td>\n",
       "      <td>...</td>\n",
       "    </tr>\n",
       "    <tr>\n",
       "      <th>29321</th>\n",
       "      <td>i attended the council of abu bakr bin duraid...</td>\n",
       "      <td>حضرت ببغداد مجلس أبي بكر بن دريد ، وأبو نصر هذ...</td>\n",
       "    </tr>\n",
       "    <tr>\n",
       "      <th>29322</th>\n",
       "      <td>professor raif khoury wrote a study about it ...</td>\n",
       "      <td>وكتب عنها الأستاذ رئيف خوري دراسة بعنوان حول ك...</td>\n",
       "    </tr>\n",
       "    <tr>\n",
       "      <th>29323</th>\n",
       "      <td>the boat belonged to some destitute people who...</td>\n",
       "      <td>أما السفينة فكانت لمساكين يعملون في البحر فأرد...</td>\n",
       "    </tr>\n",
       "    <tr>\n",
       "      <th>29324</th>\n",
       "      <td>91 39 alawite is proud of himself</td>\n",
       "      <td>٩١ ٣٩ علوي يفتخر بنفسه</td>\n",
       "    </tr>\n",
       "    <tr>\n",
       "      <th>29325</th>\n",
       "      <td>as much as you are able.</td>\n",
       "      <td>فيما استطعتم</td>\n",
       "    </tr>\n",
       "  </tbody>\n",
       "</table>\n",
       "<p>29326 rows × 2 columns</p>\n",
       "</div>"
      ],
      "text/plain": [
       "                                                  source  \\\n",
       "0      two more versions of the tradition narrated by...   \n",
       "1      the messenger of allah rinsed his mouth and sn...   \n",
       "2       she unveiled the hyacinths of the ugly ones l...   \n",
       "3      none amongst the created beings who had been l...   \n",
       "4       to hold the hands by the hands in prayer belo...   \n",
       "...                                                  ...   \n",
       "29321   i attended the council of abu bakr bin duraid...   \n",
       "29322   professor raif khoury wrote a study about it ...   \n",
       "29323  the boat belonged to some destitute people who...   \n",
       "29324                  91 39 alawite is proud of himself   \n",
       "29325                           as much as you are able.   \n",
       "\n",
       "                                                  target  \n",
       "0      عن النبي بمعنى حديث أبي حازم عن بعجة وقال في ش...  \n",
       "1                أن رسول الله مضمض واستنشق من غرفة واحدة  \n",
       "2      أماطت لثاما عن أقاحي الدمائث بمثل أساريع الحقو...  \n",
       "3      عن النبي أنه قال ذلك قبل موته بشهر أو نحو ذلك ...  \n",
       "4      قال كان رسول الله يصلي بنا فيقرأ في الظهر والع...  \n",
       "...                                                  ...  \n",
       "29321  حضرت ببغداد مجلس أبي بكر بن دريد ، وأبو نصر هذ...  \n",
       "29322  وكتب عنها الأستاذ رئيف خوري دراسة بعنوان حول ك...  \n",
       "29323  أما السفينة فكانت لمساكين يعملون في البحر فأرد...  \n",
       "29324                             ٩١ ٣٩ علوي يفتخر بنفسه  \n",
       "29325                                       فيما استطعتم  \n",
       "\n",
       "[29326 rows x 2 columns]"
      ]
     },
     "execution_count": 77,
     "metadata": {},
     "output_type": "execute_result"
    }
   ],
   "source": [
    "df"
   ]
  },
  {
   "cell_type": "code",
   "execution_count": 78,
   "metadata": {},
   "outputs": [],
   "source": [
    "dataset = Dataset.from_pandas(df)"
   ]
  },
  {
   "cell_type": "code",
   "execution_count": 79,
   "metadata": {},
   "outputs": [
    {
     "data": {
      "application/vnd.jupyter.widget-view+json": {
       "model_id": "377ad9517d0b4d079c00cfb72d0f6fac",
       "version_major": 2,
       "version_minor": 0
      },
      "text/plain": [
       "Uploading the dataset shards:   0%|          | 0/1 [00:00<?, ?it/s]"
      ]
     },
     "metadata": {},
     "output_type": "display_data"
    },
    {
     "data": {
      "application/vnd.jupyter.widget-view+json": {
       "model_id": "230dc18dc0064717ba44ce635d699a62",
       "version_major": 2,
       "version_minor": 0
      },
      "text/plain": [
       "Creating parquet from Arrow format:   0%|          | 0/30 [00:00<?, ?ba/s]"
      ]
     },
     "metadata": {},
     "output_type": "display_data"
    },
    {
     "data": {
      "application/vnd.jupyter.widget-view+json": {
       "model_id": "a29b30638fbb46aebad64d706187fea4",
       "version_major": 2,
       "version_minor": 0
      },
      "text/plain": [
       "README.md:   0%|          | 0.00/312 [00:00<?, ?B/s]"
      ]
     },
     "metadata": {},
     "output_type": "display_data"
    },
    {
     "data": {
      "text/plain": [
       "CommitInfo(commit_url='https://huggingface.co/datasets/Abdulmohsena/starter/commit/544019ebca1aac3d3e5662a9a024e2296f2f90d1', commit_message='Upload dataset', commit_description='', oid='544019ebca1aac3d3e5662a9a024e2296f2f90d1', pr_url=None, repo_url=RepoUrl('https://huggingface.co/datasets/Abdulmohsena/starter', endpoint='https://huggingface.co', repo_type='dataset', repo_id='Abdulmohsena/starter'), pr_revision=None, pr_num=None)"
      ]
     },
     "execution_count": 79,
     "metadata": {},
     "output_type": "execute_result"
    }
   ],
   "source": [
    "dataset.push_to_hub(\"AbdulmohsenA/starter\")"
   ]
  },
  {
   "cell_type": "code",
   "execution_count": null,
   "metadata": {},
   "outputs": [],
   "source": []
  }
 ],
 "metadata": {
  "kernelspec": {
   "display_name": "Faseeh",
   "language": "python",
   "name": "python3"
  },
  "language_info": {
   "codemirror_mode": {
    "name": "ipython",
    "version": 3
   },
   "file_extension": ".py",
   "mimetype": "text/x-python",
   "name": "python",
   "nbconvert_exporter": "python",
   "pygments_lexer": "ipython3",
   "version": "3.11.9"
  }
 },
 "nbformat": 4,
 "nbformat_minor": 2
}
