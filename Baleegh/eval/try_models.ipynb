{
 "cells": [
  {
   "cell_type": "code",
   "execution_count": 8,
   "metadata": {},
   "outputs": [],
   "source": [
    "import torch\n",
    "from transformers import AutoModelForSeq2SeqLM, AutoTokenizer, GenerationConfig\n",
    "import wandb\n",
    "\n",
    "def translate(model, tokenizer, generation_config, texts):\n",
    "    inputs = tokenizer(texts, return_tensors=\"pt\", padding=True).to('cuda')\n",
    "\n",
    "    model.eval().to('cuda')\n",
    "    with torch.inference_mode():\n",
    "        output = model.generate(**inputs, generation_config=generation_config)\n",
    "        preds = tokenizer.batch_decode(output, skip_special_tokens=True)\n",
    "        \n",
    "    return preds\n",
    "\n",
    "def sanity_check(model, tokenizer, generation_config):\n",
    "\n",
    "    texts = [\n",
    "    \"And the Egyptian foreign minister ordered the citizens to stick together.\",\n",
    "    \"Hello! It's been a while since we last spoke.\",\n",
    "    \"We should stay together hands on hands.\",\n",
    "    \"Could you please help me with this task?\",\n",
    "    \"Thank you so much for your kindness and support.\",\n",
    "    \"Can you pass me the salt, please?\",\n",
    "    \"I would rather stay home and read a good book tonight.\",\n",
    "    \"I’m sorry for the misunderstanding. It wasn’t my intention.\",\n",
    "    \"The sky is so clear and beautiful today.\",\n",
    "    \"If I were you, I would reconsider that decision.\",\n",
    "    \"He thought for a moment, then replied, 'I believe this is the best choice.'\",\n",
    "    \"He felt uncomfortable in their presence that he did not sleep from worry\",\n",
    "    \"I want to buy a house in the east side of the town\",\n",
    "    \"He said I can do a good job with that\",\n",
    "    \"Ammar says hello\"\n",
    "    ]\n",
    "    \n",
    "    preds = translate(model, tokenizer, generation_config, texts)\n",
    "    return [[input_sentence, output_sentence] for input_sentence, output_sentence in list(zip(texts, preds))]\n",
    "\n",
    "import re\n",
    "def post_process(text):\n",
    "    text = re.sub(r\"\\.\\.\\.\", '', text)\n",
    "    return text"
   ]
  },
  {
   "cell_type": "code",
   "execution_count": 9,
   "metadata": {},
   "outputs": [],
   "source": [
    "generation_config = GenerationConfig(\n",
    "    forced_bos_token_id=256011,\n",
    "    bos_token_id=0,\n",
    "    decoder_start_token_id=2,\n",
    "    eos_token_id=2,\n",
    "\n",
    "    pad_token_id=1,\n",
    "    # Beam search settings\n",
    "    num_beams=5,                   # Set up 5 beams to explore different translation options\n",
    "    # early_stopping=True,            # Stop generation once optimal sequence is found\n",
    "    # no_repeat_ngram_size=2,         # Discourage repetition, promoting varied phrase structure\n",
    "\n",
    "    # # Sampling parameters for nuanced and diverse generation\n",
    "    do_sample=True,                 # Enable sampling to avoid rigid translations\n",
    "    # top_k=10,                       # Top-k sampling, choosing from the top 10 likely next tokens\n",
    "    top_p=0.90,                      # Nucleus sampling with p=0.9 for variability while keeping coherence\n",
    "    temperature=0.8,                # Moderate temperature to maintain eloquence without randomness\n",
    "\n",
    "    # Length control parameters\n",
    "    max_length=200,                  # Set maximum length per translation output\n",
    "    # min_length=15,                  # Avoid overly terse outputs by setting a minimum length\n",
    "    length_penalty=0.9,             # Slight penalty to discourage excessive length, favoring conciseness\n",
    "\n",
    "    # Model confidence adjustment\n",
    "    repetition_penalty=1.2,         # Penalize exact repetitions to ensure stylistic diversity\n",
    ")"
   ]
  },
  {
   "cell_type": "code",
   "execution_count": 10,
   "metadata": {},
   "outputs": [],
   "source": [
    "samples = {}"
   ]
  },
  {
   "cell_type": "code",
   "execution_count": 11,
   "metadata": {},
   "outputs": [
    {
     "data": {
      "application/vnd.jupyter.widget-view+json": {
       "model_id": "d6fe7c9f3c644929b9df926f9f7c12f5",
       "version_major": 2,
       "version_minor": 0
      },
      "text/plain": [
       "config.json:   0%|          | 0.00/919 [00:00<?, ?B/s]"
      ]
     },
     "metadata": {},
     "output_type": "display_data"
    },
    {
     "name": "stderr",
     "output_type": "stream",
     "text": [
      "d:\\anaconda\\envs\\Faseeh\\Lib\\site-packages\\huggingface_hub\\file_download.py:147: UserWarning: `huggingface_hub` cache-system uses symlinks by default to efficiently store duplicated files but your machine does not support them in C:\\Users\\user\\.cache\\huggingface\\hub\\models--AbdulmohsenA--Faseeh. Caching files will still work but in a degraded version that might require more space on your disk. This warning can be disabled by setting the `HF_HUB_DISABLE_SYMLINKS_WARNING` environment variable. For more details, see https://huggingface.co/docs/huggingface_hub/how-to-cache#limitations.\n",
      "To support symlinks on Windows, you either need to activate Developer Mode or to run Python as an administrator. In order to activate developer mode, see this article: https://docs.microsoft.com/en-us/windows/apps/get-started/enable-your-device-for-development\n",
      "  warnings.warn(message)\n"
     ]
    },
    {
     "data": {
      "application/vnd.jupyter.widget-view+json": {
       "model_id": "05cecb3dd12640fea7f9f3482e1e199b",
       "version_major": 2,
       "version_minor": 0
      },
      "text/plain": [
       "model.safetensors:   0%|          | 0.00/2.46G [00:00<?, ?B/s]"
      ]
     },
     "metadata": {},
     "output_type": "display_data"
    },
    {
     "data": {
      "application/vnd.jupyter.widget-view+json": {
       "model_id": "00c1e19f17064930a966719676b3fb14",
       "version_major": 2,
       "version_minor": 0
      },
      "text/plain": [
       "generation_config.json:   0%|          | 0.00/227 [00:00<?, ?B/s]"
      ]
     },
     "metadata": {},
     "output_type": "display_data"
    }
   ],
   "source": [
    "model = AutoModelForSeq2SeqLM.from_pretrained(\"AbdulmohsenA/Faseeh\", revision='f3e75973e367ca471f5eaefa77f3f7b53b410856')\n",
    "tokenizer = AutoTokenizer.from_pretrained(\"AbdulmohsenA/Faseeh\", src_lang=\"eng_Latn\", tgt_lang=\"arb_Arab\")\n",
    "samples['model_1'] = sanity_check(model, tokenizer, generation_config)\n",
    "\n",
    "model = AutoModelForSeq2SeqLM.from_pretrained(\"AbdulmohsenA/Faseeh\", revision='f76e3d54614dbb98a4991448faed8f84af73e003')\n",
    "samples['model_2'] = sanity_check(model, tokenizer, generation_config)\n",
    "\n",
    "model = AutoModelForSeq2SeqLM.from_pretrained(\"artifacts/DPO-v1\")\n",
    "samples['model_3'] = sanity_check(model, tokenizer, generation_config)\n",
    "\n",
    "model = AutoModelForSeq2SeqLM.from_pretrained(\"artifacts/DPO-v2\")\n",
    "\n",
    "samples['model_4'] = sanity_check(model, tokenizer, generation_config)"
   ]
  },
  {
   "cell_type": "code",
   "execution_count": 5,
   "metadata": {},
   "outputs": [],
   "source": [
    "# model = AutoModelForSeq2SeqLM.from_pretrained(\"AbdulmohsenA/Faseeh\", revision='f76e3d54614dbb98a4991448faed8f84af73e003')"
   ]
  },
  {
   "cell_type": "code",
   "execution_count": 12,
   "metadata": {},
   "outputs": [
    {
     "name": "stdout",
     "output_type": "stream",
     "text": [
      "['Ammar says hello', 'يسلم عمار']\n",
      "['Ammar says hello', 'وقال عمار مرحبا']\n",
      "['Ammar says hello', 'قال سلام عمار']\n",
      "['Ammar says hello', 'يسلم عمار']\n"
     ]
    }
   ],
   "source": [
    "n = -1\n",
    "for key, trans in samples.items():\n",
    "    print(trans[n])"
   ]
  },
  {
   "cell_type": "code",
   "execution_count": 88,
   "metadata": {},
   "outputs": [
    {
     "data": {
      "text/plain": [
       "['ولعلي أن أقتل']"
      ]
     },
     "execution_count": 88,
     "metadata": {},
     "output_type": "execute_result"
    }
   ],
   "source": [
    "translate(model, tokenizer, generation_config, \"I am quite suspicious\")"
   ]
  },
  {
   "cell_type": "code",
   "execution_count": null,
   "metadata": {},
   "outputs": [],
   "source": []
  }
 ],
 "metadata": {
  "kernelspec": {
   "display_name": "Faseeh",
   "language": "python",
   "name": "python3"
  },
  "language_info": {
   "codemirror_mode": {
    "name": "ipython",
    "version": 3
   },
   "file_extension": ".py",
   "mimetype": "text/x-python",
   "name": "python",
   "nbconvert_exporter": "python",
   "pygments_lexer": "ipython3",
   "version": "3.11.9"
  }
 },
 "nbformat": 4,
 "nbformat_minor": 2
}
